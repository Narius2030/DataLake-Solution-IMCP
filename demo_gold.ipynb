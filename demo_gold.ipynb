{
 "cells": [
  {
   "cell_type": "code",
   "execution_count": 1,
   "metadata": {},
   "outputs": [],
   "source": [
    "import sys\n",
    "sys.path.append('./airflow')\n",
    "\n",
    "import os\n",
    "from functions.images.detr.util.features import get_detr_model, extract_detr_features\n",
    "from functions.images.yolo.util.features import extract_yolo_features, get_Net_yolov4\n",
    "from functions.images.detr.util.transform import reshape\n",
    "\n",
    "import pymongo\n",
    "import json\n",
    "import requests\n",
    "import numpy as np\n",
    "from tqdm import tqdm\n",
    "import base64\n",
    "from elasticsearch import Elasticsearch"
   ]
  },
  {
   "cell_type": "code",
   "execution_count": 2,
   "metadata": {},
   "outputs": [],
   "source": [
    "with open(\"./airflow/config/env.json\", \"r\") as file:\n",
    "    config = json.load(file)\n",
    "    mongo_url = config['mongodb']['MONGO_ATLAS_PYTHON_GCP']\n",
    "    hugg_index_key = config['elastic']['HUGGINGFACE_INDEX_KEY']\n",
    "    hugg_host = config['elastic']['ELASTIC_HOST']"
   ]
  },
  {
   "cell_type": "code",
   "execution_count": 35,
   "metadata": {},
   "outputs": [
    {
     "name": "stderr",
     "output_type": "stream",
     "text": [
      "d:\\Programming\\imcp-integration\\.venv\\Lib\\site-packages\\torchvision\\models\\_utils.py:208: UserWarning: The parameter 'pretrained' is deprecated since 0.13 and may be removed in the future, please use 'weights' instead.\n",
      "  warnings.warn(\n",
      "d:\\Programming\\imcp-integration\\.venv\\Lib\\site-packages\\torchvision\\models\\_utils.py:223: UserWarning: Arguments other than a weight enum or `None` for 'weights' are deprecated since 0.13 and may be removed in the future. The current behavior is equivalent to passing `weights=ResNet50_Weights.IMAGENET1K_V1`. You can also use `weights=ResNet50_Weights.DEFAULT` to get the most up-to-date weights.\n",
      "  warnings.warn(msg)\n",
      "2it [00:05,  3.00s/it]"
     ]
    },
    {
     "name": "stdout",
     "output_type": "stream",
     "text": [
      "(904995,)\n"
     ]
    },
    {
     "name": "stderr",
     "output_type": "stream",
     "text": [
      "2it [00:08,  4.20s/it]"
     ]
    },
    {
     "name": "stdout",
     "output_type": "stream",
     "text": [
      "(904995,)\n"
     ]
    },
    {
     "name": "stderr",
     "output_type": "stream",
     "text": [
      "\n"
     ]
    }
   ],
   "source": [
    "# Tải mô hình DETR\n",
    "detr_model, postprocessor = get_detr_model(pretrained=True)\n",
    "yolo_model = get_Net_yolov4(\"./airflow/functions/images/yolo/model/yolov4.weights\", \"./airflow/functions/images/yolo//model/yolov4.cfg\")\n",
    "# Khởi tạo một dictionary để lưu trữ các đặc trưng của ảnh\n",
    "caches = []\n",
    "\n",
    "# Lặp qua từng ảnh trong thư mục\n",
    "with pymongo.MongoClient(mongo_url) as client:\n",
    "    db = client['imcp']\n",
    "    pipeline = [{\n",
    "            '$sort': {'url': 1}\n",
    "        }, {\n",
    "            '$project': {'created_time': 0, 'publisher': 0, '_id': 0 }\n",
    "        }, {\n",
    "            '$limit': 8000\n",
    "        }\n",
    "    ]\n",
    "    documents = db['refined'].aggregate(pipeline)\n",
    "    count = 0\n",
    "    for doc in tqdm(documents):\n",
    "        try:\n",
    "            response = requests.get(doc['url'], timeout=0.5)\n",
    "             # Trích xuất đặc trưng từ YOLO\n",
    "            yolo_features = extract_yolo_features(yolo_model, response.content)\n",
    "            doc['yolov4_encode'] = yolo_features #base64.b64encode(yolo_features)\n",
    "            \n",
    "            # Trích xuất đặc trưng từ DETR\n",
    "            image_tensor = reshape(response.content)\n",
    "            detr_features = extract_detr_features(image_tensor, detr_model)\n",
    "            doc['detr_encode'] = detr_features #base64.b64encode(detr_features)\n",
    "            caches.append(doc)\n",
    "            \n",
    "            print(yolo_features.shape)\n",
    "            \n",
    "            count += 1\n",
    "            if count == 2:\n",
    "                break\n",
    "            \n",
    "            # with Elasticsearch(hosts=hugg_host, api_key=hugg_index_key) as es:\n",
    "            #     es.update(index=\"huggingface-index\", doc=doc, id=doc['url'][-16:-4], doc_as_upsert=True, upsert=doc)    \n",
    "        except Exception as exc:\n",
    "            continue"
   ]
  },
  {
   "cell_type": "code",
   "execution_count": 34,
   "metadata": {},
   "outputs": [
    {
     "name": "stdout",
     "output_type": "stream",
     "text": [
      "[0.00964143 0.01011501 0.02303592 ... 0.         0.         0.        ]\n"
     ]
    }
   ],
   "source": [
    "for cache in caches:\n",
    "    print(cache['yolov4_encode'])\n",
    "    break"
   ]
  },
  {
   "cell_type": "code",
   "execution_count": 37,
   "metadata": {},
   "outputs": [
    {
     "name": "stdout",
     "output_type": "stream",
     "text": [
      "(400,)\n"
     ]
    }
   ],
   "source": [
    "with Elasticsearch(hosts=hugg_host, api_key=hugg_index_key) as es:\n",
    "    # \"caption\", \"short_caption\", \"caption_tokens\", \"short_caption_tokens\"\n",
    "    query = {\n",
    "        \"query\": {\n",
    "            \"match_all\": {}\n",
    "        },\n",
    "        \"_source\": [\"url\", \"yolov4_encode\", \"detr_encode\"]\n",
    "    }\n",
    "    res = es.search(index='huggingface-index', body=query)\n",
    "    for hit in res['hits']['hits']:\n",
    "        yolov4_encode = hit['_source']['detr_encode']\n",
    "        decoded_data = np.frombuffer(base64.b64decode(yolov4_encode), dtype=np.float32)\n",
    "        print(decoded_data.shape)"
   ]
  }
 ],
 "metadata": {
  "kernelspec": {
   "display_name": ".venv",
   "language": "python",
   "name": "python3"
  },
  "language_info": {
   "codemirror_mode": {
    "name": "ipython",
    "version": 3
   },
   "file_extension": ".py",
   "mimetype": "text/x-python",
   "name": "python",
   "nbconvert_exporter": "python",
   "pygments_lexer": "ipython3",
   "version": "3.11.1"
  }
 },
 "nbformat": 4,
 "nbformat_minor": 2
}
