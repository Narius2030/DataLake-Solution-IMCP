{
 "cells": [
  {
   "cell_type": "markdown",
   "metadata": {},
   "source": [
    "# Embedding vectors"
   ]
  },
  {
   "cell_type": "code",
   "execution_count": 1,
   "metadata": {},
   "outputs": [],
   "source": [
    "import sys\n",
    "sys.path.append('./airflow')\n",
    "\n",
    "import os\n",
    "from functions.images.detr.util.features import get_detr_model\n",
    "from functions.images.yolo.util.features import get_yolov8_extractor\n",
    "from functions.images.combine import combine_yolo_detr\n",
    "import pymongo\n",
    "from tqdm import tqdm\n",
    "import pickle\n",
    "import time\n",
    "from core.config import get_settings"
   ]
  },
  {
   "cell_type": "code",
   "execution_count": 2,
   "metadata": {},
   "outputs": [],
   "source": [
    "settings = get_settings()"
   ]
  },
  {
   "cell_type": "code",
   "execution_count": null,
   "metadata": {},
   "outputs": [],
   "source": [
    "detr_model, _ = get_detr_model(pretrained=True)\n",
    "yolo_model = get_yolov8_extractor(model_name='yolov8m.pt')\n",
    "# Khởi tạo một dictionary để lưu trữ các đặc trưng của ảnh\n",
    "yolo_caches = {}\n",
    "detr_caches = {}\n",
    "\n",
    "# Lặp qua từng ảnh trong thư mục\n",
    "with pymongo.MongoClient(settings.DATABASE_URL) as client:\n",
    "    db = client['imcp']\n",
    "    pipeline = [{\n",
    "            '$sort': {'url': 1}\n",
    "        }, {\n",
    "            '$project': {'created_time': 0, 'publisher': 0, '_id': 0 }\n",
    "        }, {\n",
    "            '$limit': 8000\n",
    "    }]\n",
    "    documents = db['refined'].aggregate(pipeline)\n",
    "    for doc in tqdm(documents):\n",
    "        try:\n",
    "            image_url = doc['url']\n",
    "            yolov4_encode, detr_encode = combine_yolo_detr(image_url, yolo_model, detr_model)\n",
    "        except Exception:\n",
    "            print(\"Lỗi tải dữ liệu...\")\n",
    "            for attempt in range(0, 2):\n",
    "                try:\n",
    "                    yolov4_encode, detr_encode = combine_yolo_detr(image_url, yolo_model, detr_model)\n",
    "                    break  # Thành công, thoát khỏi vòng lặp thử lại\n",
    "                except Exception as e:\n",
    "                    print(f\"Tải lại dữ liệu từ {doc['url']} (lần {attempt+1}/{3}): {e}\")\n",
    "                    time.sleep(2)  # Chờ đợi trước khi thử lại\n",
    "        image_id = image_url[-16:-4]  \n",
    "        yolo_caches[image_id] = yolov4_encode\n",
    "        detr_caches[image_id] = detr_encode\n",
    "    \n",
    "    # savae embeddings to pkl\n",
    "    with open(f\"./airflow/data/HuggingFace/yolo_embedding.pkl\", 'wb') as f:\n",
    "        pickle.dump(yolo_caches, f)\n",
    "        \n",
    "    with open(f\"./airflow/data/HuggingFace/detr_embedding.pkl\", 'wb') as f:\n",
    "        pickle.dump(detr_caches, f)"
   ]
  },
  {
   "cell_type": "code",
   "execution_count": 10,
   "metadata": {},
   "outputs": [
    {
     "name": "stdout",
     "output_type": "stream",
     "text": [
      "169\n"
     ]
    }
   ],
   "source": [
    "print(len(yolo_caches))\n",
    "# print(len(detr_caches))\n",
    "# for cache in caches:\n",
    "#     print(cache['yolov4_encode'])\n",
    "#     break"
   ]
  },
  {
   "cell_type": "code",
   "execution_count": 12,
   "metadata": {},
   "outputs": [
    {
     "name": "stdout",
     "output_type": "stream",
     "text": [
      "(230400,)\n"
     ]
    }
   ],
   "source": [
    "print(yolo_caches['000000000009'].shape)"
   ]
  },
  {
   "cell_type": "markdown",
   "metadata": {},
   "source": [
    "# Cloud Storage"
   ]
  },
  {
   "cell_type": "code",
   "execution_count": 4,
   "metadata": {},
   "outputs": [],
   "source": [
    "from google.cloud.storage import Client, transfer_manager\n",
    "from typing import List\n",
    "\n",
    "\n",
    "def set_bucket_public_iam(\n",
    "    bucket_name:str=\"embedding-vectors\",\n",
    "    roles:List[dict]=[{\"role\": \"roles/storage.objectViewer\", \"members\": \"allUsers\"}]\n",
    "):\n",
    "    \"\"\"Set a public IAM Policy to bucket\"\"\"\n",
    "    # bucket_name = \"your-bucket-name\"\n",
    "\n",
    "    storage_client = Client()\n",
    "    bucket = storage_client.bucket(bucket_name)\n",
    "\n",
    "    policy = bucket.get_iam_policy(requested_policy_version=3)\n",
    "    policy.bindings += roles\n",
    "\n",
    "    bucket.set_iam_policy(policy)\n",
    "    print(f\"Bucket {bucket.name} is now publicly readable\")\n",
    "\n",
    "\n",
    "def upload_blob(\n",
    "    bucket_name, source_file_name, destination_blob_name\n",
    "):\n",
    "    \"\"\"Uploads a file to the bucket.\"\"\"\n",
    "    \n",
    "    storage_client = Client()\n",
    "    bucket = storage_client.bucket(bucket_name)\n",
    "    blob = bucket.blob(destination_blob_name)\n",
    "    generation_match_precondition = 0\n",
    "    try:\n",
    "        blob.upload_from_filename(source_file_name, if_generation_match=generation_match_precondition)\n",
    "    except Exception as exc:\n",
    "        raise Exception(exc)\n",
    "    print(f\"File {source_file_name} uploaded to {destination_blob_name}.\")\n",
    "    \n",
    "\n",
    "def upload_many_blobs(\n",
    "    bucket_name, filenames, source_directory=\"./data\", workers=8\n",
    "):\n",
    "    \"\"\"Upload every file in a list to a bucket, concurrently in a process pool.\n",
    "\n",
    "    Each blob name is derived from the filename, not including the\n",
    "    `source_directory` parameter. For complete control of the blob name for each\n",
    "    file (and other aspects of individual blob metadata), use\n",
    "    transfer_manager.upload_many() instead.\n",
    "    \"\"\"\n",
    "\n",
    "    storage_client = Client()\n",
    "    bucket = storage_client.bucket(bucket_name)\n",
    "\n",
    "    results = transfer_manager.upload_many_from_filenames(bucket, filenames, source_directory=source_directory, max_workers=workers, content_type=content_type)\n",
    "\n",
    "    for name, result in zip(filenames, results):\n",
    "        # The results list is either `None` or an exception for each filename in\n",
    "        # the input list, in order.\n",
    "\n",
    "        if isinstance(result, Exception):\n",
    "            print(\"Failed to upload {} due to exception: {}\".format(name, result))\n",
    "        else:\n",
    "            print(\"Uploaded {} to {}.\".format(name, bucket.name))\n",
    "\n"
   ]
  },
  {
   "cell_type": "code",
   "execution_count": 5,
   "metadata": {},
   "outputs": [
    {
     "name": "stdout",
     "output_type": "stream",
     "text": [
      "File ./airflow/data/HuggingFace/lvis_detr_embedding.pkl uploaded to images/lvis_detr_embedding.pkl.\n"
     ]
    }
   ],
   "source": [
    "upload_blob(\n",
    "    bucket_name=\"embedding-vectors\",\n",
    "    source_file_name=\"./airflow/data/HuggingFace/lvis_detr_embedding.pkl\",\n",
    "    destination_blob_name=\"images/lvis_detr_embedding.pkl\",\n",
    "    content_type=\"application/octet-stream\"\n",
    ")\n",
    "\n",
    "# upload_blob(\n",
    "#     bucket_name=\"embedding-vectors\",\n",
    "#     source_file_name=\"./airflow/data/HuggingFace/lvis_caption_url.parquet\",\n",
    "#     destination_blob_name=\"images/lvis_raw.parquet\",\n",
    "#     content_type=\"application/octet-stream\"\n",
    "# )\n",
    "\n",
    "# download_blob(\n",
    "#     bucket_name=\"embedding-vectors\",\n",
    "#     source_blob_name=\"images/lvis_raw.parquet\",\n",
    "#     destination_file_name=\"./samples/lvis_raw.parquet\"\n",
    "# )"
   ]
  },
  {
   "cell_type": "code",
   "execution_count": 18,
   "metadata": {},
   "outputs": [
    {
     "data": {
      "text/html": [
       "<div>\n",
       "<style scoped>\n",
       "    .dataframe tbody tr th:only-of-type {\n",
       "        vertical-align: middle;\n",
       "    }\n",
       "\n",
       "    .dataframe tbody tr th {\n",
       "        vertical-align: top;\n",
       "    }\n",
       "\n",
       "    .dataframe thead th {\n",
       "        text-align: right;\n",
       "    }\n",
       "</style>\n",
       "<table border=\"1\" class=\"dataframe\">\n",
       "  <thead>\n",
       "    <tr style=\"text-align: right;\">\n",
       "      <th></th>\n",
       "      <th>url</th>\n",
       "      <th>caption</th>\n",
       "      <th>short_caption</th>\n",
       "    </tr>\n",
       "  </thead>\n",
       "  <tbody>\n",
       "    <tr>\n",
       "      <th>0</th>\n",
       "      <td>http://images.cocodataset.org/val2017/00000003...</td>\n",
       "      <td>a kitchen with wooden cabinets on the walls, a...</td>\n",
       "      <td>Well-organized kitchen with wooden cabinets, a...</td>\n",
       "    </tr>\n",
       "    <tr>\n",
       "      <th>1</th>\n",
       "      <td>http://images.cocodataset.org/val2017/00000025...</td>\n",
       "      <td>a street scene with construction scaffolding, ...</td>\n",
       "      <td>Construction scaffolding, three individuals, s...</td>\n",
       "    </tr>\n",
       "    <tr>\n",
       "      <th>2</th>\n",
       "      <td>http://images.cocodataset.org/val2017/00000008...</td>\n",
       "      <td>multiple people wearing sweatshirts, a person ...</td>\n",
       "      <td>Multiple people wearing sweatshirts, a person ...</td>\n",
       "    </tr>\n",
       "    <tr>\n",
       "      <th>3</th>\n",
       "      <td>http://images.cocodataset.org/val2017/00000017...</td>\n",
       "      <td>a blue bicycle parked alongside a city street ...</td>\n",
       "      <td>A blue bicycle in an urban setting, parked alo...</td>\n",
       "    </tr>\n",
       "    <tr>\n",
       "      <th>4</th>\n",
       "      <td>http://images.cocodataset.org/val2017/00000040...</td>\n",
       "      <td>a bathroom with various objects, including a t...</td>\n",
       "      <td>A worn bathroom contains a toilet, sink, showe...</td>\n",
       "    </tr>\n",
       "  </tbody>\n",
       "</table>\n",
       "</div>"
      ],
      "text/plain": [
       "                                                 url  \\\n",
       "0  http://images.cocodataset.org/val2017/00000003...   \n",
       "1  http://images.cocodataset.org/val2017/00000025...   \n",
       "2  http://images.cocodataset.org/val2017/00000008...   \n",
       "3  http://images.cocodataset.org/val2017/00000017...   \n",
       "4  http://images.cocodataset.org/val2017/00000040...   \n",
       "\n",
       "                                             caption  \\\n",
       "0  a kitchen with wooden cabinets on the walls, a...   \n",
       "1  a street scene with construction scaffolding, ...   \n",
       "2  multiple people wearing sweatshirts, a person ...   \n",
       "3  a blue bicycle parked alongside a city street ...   \n",
       "4  a bathroom with various objects, including a t...   \n",
       "\n",
       "                                       short_caption  \n",
       "0  Well-organized kitchen with wooden cabinets, a...  \n",
       "1  Construction scaffolding, three individuals, s...  \n",
       "2  Multiple people wearing sweatshirts, a person ...  \n",
       "3  A blue bicycle in an urban setting, parked alo...  \n",
       "4  A worn bathroom contains a toilet, sink, showe...  "
      ]
     },
     "execution_count": 18,
     "metadata": {},
     "output_type": "execute_result"
    }
   ],
   "source": [
    "import pandas as pd\n",
    "\n",
    "df = pd.read_parquet(\"https://storage.googleapis.com/embedding-vectors/images/lvis_raw.parquet\", engine=\"pyarrow\")\n",
    "df.head()"
   ]
  }
 ],
 "metadata": {
  "kernelspec": {
   "display_name": ".venv",
   "language": "python",
   "name": "python3"
  },
  "language_info": {
   "codemirror_mode": {
    "name": "ipython",
    "version": 3
   },
   "file_extension": ".py",
   "mimetype": "text/x-python",
   "name": "python",
   "nbconvert_exporter": "python",
   "pygments_lexer": "ipython3",
   "version": "3.11.1"
  }
 },
 "nbformat": 4,
 "nbformat_minor": 2
}
