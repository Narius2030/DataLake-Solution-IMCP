{
 "cells": [
  {
   "cell_type": "code",
   "execution_count": 1,
   "metadata": {},
   "outputs": [],
   "source": [
    "import sys\n",
    "sys.path.append('./airflow')\n",
    "\n",
    "import os\n",
    "from functions.images.detr.util.features import get_detr_model, extract_detr_features\n",
    "from functions.images.yolo.util.features import extract_yolo_features\n",
    "from functions.images.detr.util.transform import reshape\n",
    "\n",
    "import pymongo\n",
    "import json\n",
    "import requests"
   ]
  },
  {
   "cell_type": "code",
   "execution_count": 2,
   "metadata": {},
   "outputs": [],
   "source": [
    "with open(\"./airflow/config/env.json\", \"r\") as file:\n",
    "    config = json.load(file)\n",
    "    mongo_url = config['mongodb']['MONGO_ATLAS_PYTHON_GCP']"
   ]
  },
  {
   "cell_type": "code",
   "execution_count": 11,
   "metadata": {},
   "outputs": [
    {
     "name": "stdout",
     "output_type": "stream",
     "text": [
      "http://images.cocodataset.org/train2017/000000000009.jpg\n",
      "dict_keys(['url', 'caption', 'short_caption', 'caption_tokens', 'short_caption_tokens'])\n"
     ]
    }
   ],
   "source": [
    "with pymongo.MongoClient(mongo_url) as client:\n",
    "    db = client['imcp']\n",
    "    \n",
    "    pipeline = [{\n",
    "            '$sort': {'url': 1}\n",
    "        }, {\n",
    "            '$project': {'created_time': 0, 'publisher': 0, '_id': 0 }\n",
    "        }, {\n",
    "            '$limit': 8000\n",
    "        }\n",
    "    ]\n",
    "    \n",
    "    documents = db['refined'].aggregate(pipeline)\n",
    "    \n",
    "    for doc in documents:\n",
    "        print(doc['url'])\n",
    "        print(doc.keys())\n",
    "        break"
   ]
  },
  {
   "cell_type": "code",
   "execution_count": 5,
   "metadata": {},
   "outputs": [
    {
     "name": "stderr",
     "output_type": "stream",
     "text": [
      "d:\\Programming\\imcp-integration\\.venv\\Lib\\site-packages\\torchvision\\models\\_utils.py:208: UserWarning: The parameter 'pretrained' is deprecated since 0.13 and may be removed in the future, please use 'weights' instead.\n",
      "  warnings.warn(\n",
      "d:\\Programming\\imcp-integration\\.venv\\Lib\\site-packages\\torchvision\\models\\_utils.py:223: UserWarning: Arguments other than a weight enum or `None` for 'weights' are deprecated since 0.13 and may be removed in the future. The current behavior is equivalent to passing `weights=ResNet50_Weights.IMAGENET1K_V1`. You can also use `weights=ResNet50_Weights.DEFAULT` to get the most up-to-date weights.\n",
      "  warnings.warn(msg)\n"
     ]
    },
    {
     "name": "stdout",
     "output_type": "stream",
     "text": [
      "dict_keys(['url', 'caption', 'short_caption', 'caption_tokens', 'short_caption_tokens', 'detr_encode'])\n",
      "(400,)\n"
     ]
    }
   ],
   "source": [
    "# Tải mô hình DETR\n",
    "model, postprocessor = get_detr_model(pretrained=True)\n",
    "\n",
    "# Khởi tạo một dictionary để lưu trữ các đặc trưng của ảnh\n",
    "image_features = {}\n",
    "\n",
    "# Lặp qua từng ảnh trong thư mục\n",
    "with pymongo.MongoClient(mongo_url) as client:\n",
    "    db = client['imcp']\n",
    "    pipeline = [{\n",
    "            '$sort': {'url': 1}\n",
    "        }, {\n",
    "            '$project': {'created_time': 0, 'publisher': 0, '_id': 0 }\n",
    "        }, {\n",
    "            '$limit': 8000\n",
    "        }\n",
    "    ]\n",
    "    documents = db['refined'].aggregate(pipeline)\n",
    "    \n",
    "    for doc in documents:\n",
    "        response = requests.get(doc['url'])\n",
    "        # # Trích xuất đặc trưng từ YOLO\n",
    "        # yolo_features = extract_yolo_features(img_path)\n",
    "        \n",
    "        # Tải và chuyển đổi hình ảnh đầu vào cho DETR\n",
    "        image_tensor = reshape(response.content)\n",
    "        \n",
    "        # Trích xuất đặc trưng từ DETR\n",
    "        detr_features = extract_detr_features(image_tensor, model)\n",
    "        doc['detr_encode'] = detr_features\n",
    "        print(doc.keys())\n",
    "        print(doc['detr_encode'].shape)\n",
    "        break"
   ]
  },
  {
   "cell_type": "code",
   "execution_count": null,
   "metadata": {},
   "outputs": [],
   "source": [
    "# %pip install scipy"
   ]
  }
 ],
 "metadata": {
  "kernelspec": {
   "display_name": ".venv",
   "language": "python",
   "name": "python3"
  },
  "language_info": {
   "codemirror_mode": {
    "name": "ipython",
    "version": 3
   },
   "file_extension": ".py",
   "mimetype": "text/x-python",
   "name": "python",
   "nbconvert_exporter": "python",
   "pygments_lexer": "ipython3",
   "version": "3.11.1"
  }
 },
 "nbformat": 4,
 "nbformat_minor": 2
}
