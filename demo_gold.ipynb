{
 "cells": [
  {
   "cell_type": "markdown",
   "metadata": {},
   "source": [
    "# Embedding vectors"
   ]
  },
  {
   "cell_type": "code",
   "execution_count": 10,
   "metadata": {},
   "outputs": [],
   "source": [
    "import sys\n",
    "sys.path.append('./airflow')\n",
    "\n",
    "import os\n",
    "from functions.images.detr.util.features import get_detr_model, extract_detr_features\n",
    "from functions.images.yolo.util.features import extract_yolo_features, get_Net_yolov4\n",
    "from functions.images.detr.util.transform import reshape\n",
    "\n",
    "import pymongo\n",
    "import json\n",
    "import requests\n",
    "import numpy as np\n",
    "from tqdm import tqdm\n",
    "import base64\n",
    "import pickle\n",
    "import time\n",
    "from elasticsearch import Elasticsearch"
   ]
  },
  {
   "cell_type": "code",
   "execution_count": 2,
   "metadata": {},
   "outputs": [],
   "source": [
    "with open(\"./airflow/config/env.json\", \"r\") as file:\n",
    "    config = json.load(file)\n",
    "    mongo_url = config['mongodb']['MONGO_ATLAS_PYTHON_GCP']\n",
    "    hugg_index_key = config['elastic']['HUGGINGFACE_INDEX_KEY']\n",
    "    hugg_host = config['elastic']['ELASTIC_HOST']"
   ]
  },
  {
   "cell_type": "code",
   "execution_count": 12,
   "metadata": {},
   "outputs": [
    {
     "name": "stderr",
     "output_type": "stream",
     "text": [
      "286it [12:43,  2.67s/it]\n"
     ]
    },
    {
     "ename": "KeyboardInterrupt",
     "evalue": "",
     "output_type": "error",
     "traceback": [
      "\u001b[1;31m---------------------------------------------------------------------------\u001b[0m",
      "\u001b[1;31mKeyboardInterrupt\u001b[0m                         Traceback (most recent call last)",
      "Cell \u001b[1;32mIn[12], line 25\u001b[0m\n\u001b[0;32m     23\u001b[0m response \u001b[38;5;241m=\u001b[39m requests\u001b[38;5;241m.\u001b[39mget(doc[\u001b[38;5;124m'\u001b[39m\u001b[38;5;124murl\u001b[39m\u001b[38;5;124m'\u001b[39m], timeout\u001b[38;5;241m=\u001b[39m\u001b[38;5;241m1\u001b[39m)\n\u001b[0;32m     24\u001b[0m \u001b[38;5;66;03m# Trích xuất đặc trưng từ YOLO\u001b[39;00m\n\u001b[1;32m---> 25\u001b[0m yolo_features \u001b[38;5;241m=\u001b[39m \u001b[43mextract_yolo_features\u001b[49m\u001b[43m(\u001b[49m\u001b[43myolo_model\u001b[49m\u001b[43m,\u001b[49m\u001b[43m \u001b[49m\u001b[43mresponse\u001b[49m\u001b[38;5;241;43m.\u001b[39;49m\u001b[43mcontent\u001b[49m\u001b[43m)\u001b[49m\n\u001b[0;32m     26\u001b[0m yolov4_encode \u001b[38;5;241m=\u001b[39m yolo_features\n\u001b[0;32m     28\u001b[0m \u001b[38;5;66;03m# # Trích xuất đặc trưng từ DETR\u001b[39;00m\n\u001b[0;32m     29\u001b[0m \u001b[38;5;66;03m# image_tensor = reshape(response.content)\u001b[39;00m\n\u001b[0;32m     30\u001b[0m \u001b[38;5;66;03m# detr_features = extract_detr_features(image_tensor, detr_model)\u001b[39;00m\n\u001b[0;32m     31\u001b[0m \u001b[38;5;66;03m# detr_encode = detr_features\u001b[39;00m\n",
      "File \u001b[1;32md:\\Programming\\imcp-integration\\./airflow\\functions\\images\\yolo\\util\\features.py:23\u001b[0m, in \u001b[0;36mextract_yolo_features\u001b[1;34m(net, img_response)\u001b[0m\n\u001b[0;32m     21\u001b[0m blob \u001b[38;5;241m=\u001b[39m cv2\u001b[38;5;241m.\u001b[39mdnn\u001b[38;5;241m.\u001b[39mblobFromImage(img, \u001b[38;5;241m0.00392\u001b[39m, (\u001b[38;5;241m416\u001b[39m, \u001b[38;5;241m416\u001b[39m), (\u001b[38;5;241m0\u001b[39m, \u001b[38;5;241m0\u001b[39m, \u001b[38;5;241m0\u001b[39m), \u001b[38;5;28;01mTrue\u001b[39;00m, crop\u001b[38;5;241m=\u001b[39m\u001b[38;5;28;01mFalse\u001b[39;00m)\n\u001b[0;32m     22\u001b[0m net\u001b[38;5;241m.\u001b[39msetInput(blob)\n\u001b[1;32m---> 23\u001b[0m outs \u001b[38;5;241m=\u001b[39m \u001b[43mnet\u001b[49m\u001b[38;5;241;43m.\u001b[39;49m\u001b[43mforward\u001b[49m\u001b[43m(\u001b[49m\u001b[43moutput_layers\u001b[49m\u001b[43m)\u001b[49m\n\u001b[0;32m     25\u001b[0m \u001b[38;5;66;03m# Làm phẳng từng phần tử của `outs` và kết hợp thành một mảng duy nhất\u001b[39;00m\n\u001b[0;32m     26\u001b[0m yolo_features \u001b[38;5;241m=\u001b[39m np\u001b[38;5;241m.\u001b[39mconcatenate([out\u001b[38;5;241m.\u001b[39mflatten() \u001b[38;5;28;01mfor\u001b[39;00m out \u001b[38;5;129;01min\u001b[39;00m outs], axis\u001b[38;5;241m=\u001b[39m\u001b[38;5;241m0\u001b[39m)\n",
      "\u001b[1;31mKeyboardInterrupt\u001b[0m: "
     ]
    }
   ],
   "source": [
    "# Tải mô hình DETR\n",
    "detr_model, postprocessor = get_detr_model(pretrained=True)\n",
    "yolo_model = get_Net_yolov4(\"./airflow/functions/images/yolo/model/yolov4.weights\", \"./airflow/functions/images/yolo//model/yolov4.cfg\")\n",
    "# Khởi tạo một dictionary để lưu trữ các đặc trưng của ảnh\n",
    "yolo_caches = {}\n",
    "detr_caches = {}\n",
    "\n",
    "# Lặp qua từng ảnh trong thư mục\n",
    "with pymongo.MongoClient(mongo_url) as client:\n",
    "    db = client['imcp']\n",
    "    pipeline = [{\n",
    "            '$sort': {'url': 1}\n",
    "        }, {\n",
    "            '$project': {'created_time': 0, 'publisher': 0, '_id': 0 }\n",
    "        }, {\n",
    "            '$limit': 8000\n",
    "        }\n",
    "    ]\n",
    "    documents = db['refined'].aggregate(pipeline)\n",
    "    count = 0\n",
    "    for doc in tqdm(documents):\n",
    "        try:\n",
    "            response = requests.get(doc['url'], timeout=1)\n",
    "            # Trích xuất đặc trưng từ YOLO\n",
    "            yolo_features = extract_yolo_features(yolo_model, response.content)\n",
    "            yolov4_encode = yolo_features\n",
    "            \n",
    "            # # Trích xuất đặc trưng từ DETR\n",
    "            # image_tensor = reshape(response.content)\n",
    "            # detr_features = extract_detr_features(image_tensor, detr_model)\n",
    "            # detr_encode = detr_features\n",
    "            \n",
    "            image_id = doc['url'][-16:-4]\n",
    "            yolo_caches[image_id] = yolov4_encode\n",
    "            # detr_caches[image_id] = yolov4_encode\n",
    "                \n",
    "        except ConnectionError:\n",
    "            print(\"Lỗi tải dữ liệu...\")\n",
    "            for attempt in range(0, 3):\n",
    "                try:\n",
    "                    response = requests.get(doc['url'], timeout=1)\n",
    "                    # Trích xuất đặc trưng từ YOLO\n",
    "                    yolo_features = extract_yolo_features(yolo_model, response.content)\n",
    "                    yolov4_encode = yolo_features\n",
    "                    image_id = doc['url'][-16:-4]\n",
    "                    yolo_caches[image_id] = yolov4_encode\n",
    "                    break  # Thành công, thoát khỏi vòng lặp thử lại\n",
    "                except ConnectionError as e:\n",
    "                    print(f\"Tải lại dữ liệu từ {doc['url']} (lần {attempt+1}/{3}): {e}\")\n",
    "                    time.sleep(2)  # Chờ đợi trước khi thử lại\n",
    "                    \n",
    "        count += 1\n",
    "        if count == 1001:\n",
    "            with open(f\"./airflow/data/HuggingFace/yolo_embedding_{count}.pkl\", 'wb') as f:\n",
    "                pickle.dump(yolo_caches, f)\n",
    "                \n",
    "            # with open(f\"./airflow/data/HuggingFace/detr_embedding_{partition}.pkl\", 'wb') as f:\n",
    "            #     pickle.dump(detr_caches, f)\n",
    "            count = 0\n",
    "            yolo_caches = {}\n",
    "            # detr_caches = {}"
   ]
  },
  {
   "cell_type": "code",
   "execution_count": 15,
   "metadata": {},
   "outputs": [
    {
     "name": "stdout",
     "output_type": "stream",
     "text": [
      "904995\n"
     ]
    }
   ],
   "source": [
    "print(len(yolo_caches['000000000009']))\n",
    "# print(len(detr_caches))\n",
    "# for cache in caches:\n",
    "#     print(cache['yolov4_encode'])\n",
    "#     break"
   ]
  },
  {
   "cell_type": "markdown",
   "metadata": {},
   "source": [
    "# Cloud Storage"
   ]
  },
  {
   "cell_type": "code",
   "execution_count": 4,
   "metadata": {},
   "outputs": [],
   "source": [
    "from google.cloud.storage import Client, transfer_manager\n",
    "from typing import List\n",
    "\n",
    "\n",
    "def set_bucket_public_iam(\n",
    "    bucket_name:str=\"embedding-vectors\",\n",
    "    roles:List[dict]=[{\"role\": \"roles/storage.objectViewer\", \"members\": \"allUsers\"}]\n",
    "):\n",
    "    \"\"\"Set a public IAM Policy to bucket\"\"\"\n",
    "    # bucket_name = \"your-bucket-name\"\n",
    "\n",
    "    storage_client = Client()\n",
    "    bucket = storage_client.bucket(bucket_name)\n",
    "\n",
    "    policy = bucket.get_iam_policy(requested_policy_version=3)\n",
    "    policy.bindings += roles\n",
    "\n",
    "    bucket.set_iam_policy(policy)\n",
    "    print(f\"Bucket {bucket.name} is now publicly readable\")\n",
    "\n",
    "\n",
    "def upload_blob(\n",
    "    bucket_name, source_file_name, destination_blob_name, content_type\n",
    "):\n",
    "    \"\"\"Uploads a file to the bucket.\"\"\"\n",
    "    \n",
    "    storage_client = Client()\n",
    "    bucket = storage_client.bucket(bucket_name)\n",
    "    blob = bucket.blob(destination_blob_name)\n",
    "    generation_match_precondition = 0\n",
    "    try:\n",
    "        blob.upload_from_filename(source_file_name, if_generation_match=generation_match_precondition)\n",
    "    except Exception as exc:\n",
    "        raise Exception(exc)\n",
    "    print(f\"File {source_file_name} uploaded to {destination_blob_name}.\")\n",
    "    \n",
    "\n",
    "def upload_many_blobs(\n",
    "    bucket_name, filenames, source_directory=\"./data\", workers=8\n",
    "):\n",
    "    \"\"\"Upload every file in a list to a bucket, concurrently in a process pool.\n",
    "\n",
    "    Each blob name is derived from the filename, not including the\n",
    "    `source_directory` parameter. For complete control of the blob name for each\n",
    "    file (and other aspects of individual blob metadata), use\n",
    "    transfer_manager.upload_many() instead.\n",
    "    \"\"\"\n",
    "\n",
    "    storage_client = Client()\n",
    "    bucket = storage_client.bucket(bucket_name)\n",
    "\n",
    "    results = transfer_manager.upload_many_from_filenames(bucket, filenames, source_directory=source_directory, max_workers=workers, content_type=content_type)\n",
    "\n",
    "    for name, result in zip(filenames, results):\n",
    "        # The results list is either `None` or an exception for each filename in\n",
    "        # the input list, in order.\n",
    "\n",
    "        if isinstance(result, Exception):\n",
    "            print(\"Failed to upload {} due to exception: {}\".format(name, result))\n",
    "        else:\n",
    "            print(\"Uploaded {} to {}.\".format(name, bucket.name))\n",
    "\n"
   ]
  },
  {
   "cell_type": "code",
   "execution_count": 5,
   "metadata": {},
   "outputs": [
    {
     "name": "stdout",
     "output_type": "stream",
     "text": [
      "File ./airflow/data/HuggingFace/lvis_detr_embedding.pkl uploaded to images/lvis_detr_embedding.pkl.\n"
     ]
    }
   ],
   "source": [
    "upload_blob(\n",
    "    bucket_name=\"embedding-vectors\",\n",
    "    source_file_name=\"./airflow/data/HuggingFace/lvis_detr_embedding.pkl\",\n",
    "    destination_blob_name=\"images/lvis_detr_embedding.pkl\",\n",
    "    content_type=\"application/octet-stream\"\n",
    ")\n",
    "\n",
    "# upload_blob(\n",
    "#     bucket_name=\"embedding-vectors\",\n",
    "#     source_file_name=\"./airflow/data/HuggingFace/lvis_caption_url.parquet\",\n",
    "#     destination_blob_name=\"images/lvis_raw.parquet\",\n",
    "#     content_type=\"application/octet-stream\"\n",
    "# )\n",
    "\n",
    "# download_blob(\n",
    "#     bucket_name=\"embedding-vectors\",\n",
    "#     source_blob_name=\"images/lvis_raw.parquet\",\n",
    "#     destination_file_name=\"./samples/lvis_raw.parquet\"\n",
    "# )"
   ]
  },
  {
   "cell_type": "code",
   "execution_count": 18,
   "metadata": {},
   "outputs": [
    {
     "data": {
      "text/html": [
       "<div>\n",
       "<style scoped>\n",
       "    .dataframe tbody tr th:only-of-type {\n",
       "        vertical-align: middle;\n",
       "    }\n",
       "\n",
       "    .dataframe tbody tr th {\n",
       "        vertical-align: top;\n",
       "    }\n",
       "\n",
       "    .dataframe thead th {\n",
       "        text-align: right;\n",
       "    }\n",
       "</style>\n",
       "<table border=\"1\" class=\"dataframe\">\n",
       "  <thead>\n",
       "    <tr style=\"text-align: right;\">\n",
       "      <th></th>\n",
       "      <th>url</th>\n",
       "      <th>caption</th>\n",
       "      <th>short_caption</th>\n",
       "    </tr>\n",
       "  </thead>\n",
       "  <tbody>\n",
       "    <tr>\n",
       "      <th>0</th>\n",
       "      <td>http://images.cocodataset.org/val2017/00000003...</td>\n",
       "      <td>a kitchen with wooden cabinets on the walls, a...</td>\n",
       "      <td>Well-organized kitchen with wooden cabinets, a...</td>\n",
       "    </tr>\n",
       "    <tr>\n",
       "      <th>1</th>\n",
       "      <td>http://images.cocodataset.org/val2017/00000025...</td>\n",
       "      <td>a street scene with construction scaffolding, ...</td>\n",
       "      <td>Construction scaffolding, three individuals, s...</td>\n",
       "    </tr>\n",
       "    <tr>\n",
       "      <th>2</th>\n",
       "      <td>http://images.cocodataset.org/val2017/00000008...</td>\n",
       "      <td>multiple people wearing sweatshirts, a person ...</td>\n",
       "      <td>Multiple people wearing sweatshirts, a person ...</td>\n",
       "    </tr>\n",
       "    <tr>\n",
       "      <th>3</th>\n",
       "      <td>http://images.cocodataset.org/val2017/00000017...</td>\n",
       "      <td>a blue bicycle parked alongside a city street ...</td>\n",
       "      <td>A blue bicycle in an urban setting, parked alo...</td>\n",
       "    </tr>\n",
       "    <tr>\n",
       "      <th>4</th>\n",
       "      <td>http://images.cocodataset.org/val2017/00000040...</td>\n",
       "      <td>a bathroom with various objects, including a t...</td>\n",
       "      <td>A worn bathroom contains a toilet, sink, showe...</td>\n",
       "    </tr>\n",
       "  </tbody>\n",
       "</table>\n",
       "</div>"
      ],
      "text/plain": [
       "                                                 url  \\\n",
       "0  http://images.cocodataset.org/val2017/00000003...   \n",
       "1  http://images.cocodataset.org/val2017/00000025...   \n",
       "2  http://images.cocodataset.org/val2017/00000008...   \n",
       "3  http://images.cocodataset.org/val2017/00000017...   \n",
       "4  http://images.cocodataset.org/val2017/00000040...   \n",
       "\n",
       "                                             caption  \\\n",
       "0  a kitchen with wooden cabinets on the walls, a...   \n",
       "1  a street scene with construction scaffolding, ...   \n",
       "2  multiple people wearing sweatshirts, a person ...   \n",
       "3  a blue bicycle parked alongside a city street ...   \n",
       "4  a bathroom with various objects, including a t...   \n",
       "\n",
       "                                       short_caption  \n",
       "0  Well-organized kitchen with wooden cabinets, a...  \n",
       "1  Construction scaffolding, three individuals, s...  \n",
       "2  Multiple people wearing sweatshirts, a person ...  \n",
       "3  A blue bicycle in an urban setting, parked alo...  \n",
       "4  A worn bathroom contains a toilet, sink, showe...  "
      ]
     },
     "execution_count": 18,
     "metadata": {},
     "output_type": "execute_result"
    }
   ],
   "source": [
    "import pandas as pd\n",
    "\n",
    "df = pd.read_parquet(\"https://storage.googleapis.com/embedding-vectors/images/lvis_raw.parquet\", engine=\"pyarrow\")\n",
    "df.head()"
   ]
  }
 ],
 "metadata": {
  "kernelspec": {
   "display_name": ".venv",
   "language": "python",
   "name": "python3"
  },
  "language_info": {
   "codemirror_mode": {
    "name": "ipython",
    "version": 3
   },
   "file_extension": ".py",
   "mimetype": "text/x-python",
   "name": "python",
   "nbconvert_exporter": "python",
   "pygments_lexer": "ipython3",
   "version": "3.11.1"
  }
 },
 "nbformat": 4,
 "nbformat_minor": 2
}
