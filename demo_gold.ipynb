{
 "cells": [
  {
   "cell_type": "code",
   "execution_count": 1,
   "metadata": {},
   "outputs": [],
   "source": [
    "import sys\n",
    "sys.path.append('./airflow')\n",
    "\n",
    "import os\n",
    "from functions.images.detr.util.features import get_detr_model, extract_detr_features\n",
    "from functions.images.yolo.util.features import extract_yolo_features, get_Net_yolov4\n",
    "from functions.images.detr.util.transform import reshape\n",
    "\n",
    "import pymongo\n",
    "import json\n",
    "import requests\n",
    "import numpy as np\n",
    "from tqdm import tqdm"
   ]
  },
  {
   "cell_type": "code",
   "execution_count": 2,
   "metadata": {},
   "outputs": [],
   "source": [
    "with open(\"./airflow/config/env.json\", \"r\") as file:\n",
    "    config = json.load(file)\n",
    "    mongo_url = config['mongodb']['MONGO_ATLAS_PYTHON_GCP']"
   ]
  },
  {
   "cell_type": "code",
   "execution_count": null,
   "metadata": {},
   "outputs": [],
   "source": [
    "# Tải mô hình DETR\n",
    "detr_model, postprocessor = get_detr_model(pretrained=True)\n",
    "yolo_model = get_Net_yolov4(\"./airflow/functions/images/yolo/model/yolov4.weights\", \"./airflow/functions/images/yolo//model/yolov4.cfg\")\n",
    "# Khởi tạo một dictionary để lưu trữ các đặc trưng của ảnh\n",
    "image_features = {}\n",
    "\n",
    "# Lặp qua từng ảnh trong thư mục\n",
    "with pymongo.MongoClient(mongo_url) as client:\n",
    "    db = client['imcp']\n",
    "    pipeline = [{\n",
    "            '$sort': {'url': 1}\n",
    "        }, {\n",
    "            '$project': {'created_time': 0, 'publisher': 0, '_id': 0 }\n",
    "        }, {\n",
    "            '$limit': 8000\n",
    "        }\n",
    "    ]\n",
    "    documents = db['refined'].aggregate(pipeline)\n",
    "    image_cache = {}\n",
    "    for doc in tqdm(documents):\n",
    "        url = doc['url']\n",
    "        if url not in image_cache:\n",
    "            response = requests.get(url)\n",
    "            image_cache[url] = response.content\n",
    "\n",
    "        # # Trích xuất đặc trưng từ YOLO\n",
    "        yolo_features = extract_yolo_features(yolo_model, image_cache[url])\n",
    "        doc['yolov4_encode'] = yolo_features\n",
    "        \n",
    "        # Trích xuất đặc trưng từ DETR\n",
    "        image_tensor = reshape(image_cache[url])\n",
    "        detr_features = extract_detr_features(image_tensor, detr_model)\n",
    "        doc['detr_encode'] = detr_features\n",
    "        \n",
    "        # features = combine_features(yolo_features, detr_features)\n",
    "        print(doc['yolov4_encode'].shape)\n",
    "        # break"
   ]
  },
  {
   "cell_type": "code",
   "execution_count": null,
   "metadata": {},
   "outputs": [],
   "source": []
  },
  {
   "cell_type": "code",
   "execution_count": null,
   "metadata": {},
   "outputs": [],
   "source": [
    "# %pip install scipy"
   ]
  }
 ],
 "metadata": {
  "kernelspec": {
   "display_name": ".venv",
   "language": "python",
   "name": "python3"
  },
  "language_info": {
   "codemirror_mode": {
    "name": "ipython",
    "version": 3
   },
   "file_extension": ".py",
   "mimetype": "text/x-python",
   "name": "python",
   "nbconvert_exporter": "python",
   "pygments_lexer": "ipython3",
   "version": "3.11.1"
  }
 },
 "nbformat": 4,
 "nbformat_minor": 2
}
