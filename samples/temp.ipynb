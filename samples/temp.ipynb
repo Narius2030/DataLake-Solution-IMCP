{
 "cells": [
  {
   "cell_type": "code",
   "execution_count": 64,
   "metadata": {},
   "outputs": [],
   "source": [
    "import polars as pl\n",
    "import boto3\n",
    "import ijson\n",
    "import requests\n",
    "import json"
   ]
  },
  {
   "cell_type": "code",
   "execution_count": null,
   "metadata": {},
   "outputs": [],
   "source": [
    "def json_generator(url=None, chunk_size=10):\n",
    "    file = requests.get(url)\n",
    "    objects = ijson.items(file.content, 'item')  # Giả sử file chứa một danh sách các đối tượng JSON\n",
    "    chunk = []\n",
    "    for obj in objects:\n",
    "        chunk.append(obj)\n",
    "        # Khi đạt đến kích thước chunk, chuyển thành DataFrame và xử lý\n",
    "        if len(chunk) >= chunk_size:\n",
    "            yield chunk # Trả về DataFrame với chunk hiện tại\n",
    "            chunk = []  # Reset chunk để tiếp tục với các đối tượng tiếp theo\n",
    "\n",
    "    # Xử lý phần còn lại sau vòng lặp nếu có\n",
    "    if chunk:\n",
    "        yield chunk"
   ]
  },
  {
   "cell_type": "code",
   "execution_count": 98,
   "metadata": {},
   "outputs": [],
   "source": [
    "def json_generator_v02(url=None, chunk_size=10):\n",
    "    with open(url, 'r', encoding='utf-8') as file:\n",
    "        objects = ijson.items(file, 'item')  # Giả sử file chứa một danh sách các đối tượng JSON\n",
    "        chunk = []\n",
    "        for obj in objects:\n",
    "            chunk.append(obj)\n",
    "            # Khi đạt đến kích thước chunk, chuyển thành DataFrame và xử lý\n",
    "            if len(chunk) >= chunk_size:\n",
    "                yield chunk # Trả về DataFrame với chunk hiện tại\n",
    "                chunk = []  # Reset chunk để tiếp tục với các đối tượng tiếp theo\n",
    "\n",
    "        # Xử lý phần còn lại sau vòng lặp nếu có\n",
    "        if chunk:\n",
    "            yield chunk"
   ]
  },
  {
   "cell_type": "code",
   "execution_count": 100,
   "metadata": {},
   "outputs": [
    {
     "name": "stdout",
     "output_type": "stream",
     "text": [
      "(10, 80)\n",
      "(10, 81)\n",
      "(10, 80)\n",
      "(10, 81)\n",
      "(10, 81)\n",
      "(10, 81)\n",
      "(10, 81)\n",
      "(10, 81)\n",
      "(10, 81)\n",
      "(10, 80)\n",
      "(10, 81)\n",
      "(10, 81)\n",
      "(1, 80)\n"
     ]
    }
   ],
   "source": [
    "url = \"../temp.json\"\n",
    "for batch in json_generator_v02(url):\n",
    "    df = pl.DataFrame(batch, strict=False, infer_schema_length=1000)\n",
    "    print(df.shape)"
   ]
  }
 ],
 "metadata": {
  "kernelspec": {
   "display_name": ".venv",
   "language": "python",
   "name": "python3"
  },
  "language_info": {
   "codemirror_mode": {
    "name": "ipython",
    "version": 3
   },
   "file_extension": ".py",
   "mimetype": "text/x-python",
   "name": "python",
   "nbconvert_exporter": "python",
   "pygments_lexer": "ipython3",
   "version": "3.11.1"
  }
 },
 "nbformat": 4,
 "nbformat_minor": 2
}
