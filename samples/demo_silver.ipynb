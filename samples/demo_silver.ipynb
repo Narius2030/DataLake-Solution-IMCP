{
 "cells": [
  {
   "cell_type": "code",
   "execution_count": 1,
   "metadata": {},
   "outputs": [],
   "source": [
    "from pyspark.sql import SparkSession\n",
    "from pyspark.sql.functions import col, lower, lit\n",
    "import pyspark.sql.functions as F\n",
    "from pyspark.sql.types import StringType, ArrayType\n",
    "import re\n",
    "from datetime import datetime\n",
    "import json"
   ]
  },
  {
   "cell_type": "code",
   "execution_count": 41,
   "metadata": {},
   "outputs": [
    {
     "name": "stdout",
     "output_type": "stream",
     "text": [
      "root\n",
      " |-- _id: struct (nullable = true)\n",
      " |    |-- oid: string (nullable = true)\n",
      " |-- caption: string (nullable = true)\n",
      " |-- created_time: timestamp (nullable = true)\n",
      " |-- howpublished: string (nullable = true)\n",
      " |-- publisher: string (nullable = true)\n",
      " |-- short_caption: string (nullable = true)\n",
      " |-- url: string (nullable = true)\n",
      " |-- year: string (nullable = true)\n",
      "\n",
      "None\n"
     ]
    }
   ],
   "source": [
    "with open(\"../airflow/config/env.json\", \"r\") as file:\n",
    "    config = json.load(file)\n",
    "    mongo_url = config['mongodb']['MONGO_ATLAS_PYTHON_GCP']\n",
    "\n",
    "# create a local SparkSession\n",
    "spark = SparkSession.builder \\\n",
    "                .config(\"spark.jars.packages\", \"org.mongodb.spark:mongo-spark-connector_2.12:3.0.1\") \\\n",
    "                .config(\"spark.driver.maxResultSize\", \"1g\") \\\n",
    "                .config(\"spark.network.timeout\", \"300s\") \\\n",
    "                .config(\"spark.executor.heartbeatInterval\", \"120s\") \\\n",
    "                .config(\"spark.executor.memory\", \"4g\") \\\n",
    "                .config(\"spark.driver.memory\", \"2g\") \\\n",
    "                .appName(\"Normalize data\") \\\n",
    "                .getOrCreate()\n",
    "\n",
    "# define a streaming query\n",
    "bronze_df = spark.read.format(\"com.mongodb.spark.sql.DefaultSource\") \\\n",
    "                    .option('spark.mongodb.input.uri', mongo_url) \\\n",
    "                    .option('spark.mongodb.input.database', 'imcp') \\\n",
    "                    .option('spark.mongodb.input.collection', 'bronze_layer') \\\n",
    "                    .load()\n",
    "\n",
    "print(bronze_df.printSchema())"
   ]
  },
  {
   "cell_type": "code",
   "execution_count": 42,
   "metadata": {},
   "outputs": [],
   "source": [
    "# bronze_df.write.format(\"com.mongodb.spark.sql.DefaultSource\") \\\n",
    "#             .option('spark.mongodb.output.uri', mongo_url) \\\n",
    "#             .option('spark.mongodb.output.database', 'imcp') \\\n",
    "#             .option('spark.mongodb.output.collection', 'refined') \\\n",
    "#             .mode('append') \\\n",
    "#             .save()"
   ]
  },
  {
   "cell_type": "code",
   "execution_count": 43,
   "metadata": {},
   "outputs": [
    {
     "data": {
      "text/plain": [
       "[Row(_id=Row(oid='66df138714a70899133d85b3'), caption='a kitchen with wooden cabinets on the walls, a stove, multiple drawers, a refrigerator, a counter with fruits, and a well-organized layout for cooking and storage needs.', created_time=datetime.datetime(2024, 9, 10, 5, 25, 56, 734000), howpublished='https://huggingface.co/datasets/laion/220k-GPT4Vision-captions-from-LIVIS', publisher='HuggingFace', short_caption='well-organized kitchen with wooden cabinets, a stove, multiple drawers, a refrigerator, counter space with fruits, and a clutter-free layout for efficient cooking and storage needs.', url='http://images.cocodataset.org/val2017/000000037777.jpg', year='2023'),\n",
       " Row(_id=Row(oid='66df138714a70899133d85b4'), caption='a street scene with construction scaffolding, three individuals, a shopping cart filled with personal belongings, street signs, and a sidewalk. the construction scaffolding is blue and has text about the construction company and contact details. one individual is walking by, another person is standing and looking at something in their hands, and the third person is behind a shopping cart going through the items inside. there are no vehicles visible in the image. the shopping cart filled with personal belongings might suggest that the individual using it is homeless or transient. the time of day appears to be daytime, but no direct indicators of weather conditions are present, although the presence of personal umbrellas might suggest rain.', created_time=datetime.datetime(2024, 9, 10, 5, 25, 56, 734000), howpublished='https://huggingface.co/datasets/laion/220k-GPT4Vision-captions-from-LIVIS', publisher='HuggingFace', short_caption='construction scaffolding, three individuals, shopping cart with belongings, street signs, and sidewalk scene during daytime with possible rain and hints of homelessness or transience for one individual.', url='http://images.cocodataset.org/val2017/000000252219.jpg', year='2023'),\n",
       " Row(_id=Row(oid='66df138714a70899133d85b5'), caption='multiple people wearing sweatshirts, a person on a bicycle performing tricks, and another person mid-jump off a skateboarding ramp. the backdrop consists of buildings with graffiti artworks, adding a vibrant feel to the urban setting. the image appears to be set in an urban skate park or a designated area for extreme sports within a city.', created_time=datetime.datetime(2024, 9, 10, 5, 25, 56, 734000), howpublished='https://huggingface.co/datasets/laion/220k-GPT4Vision-captions-from-LIVIS', publisher='HuggingFace', short_caption='multiple people wearing sweatshirts, a person on a bicycle performing tricks, and another person mid-jump off a skateboarding ramp in a graffiti-filled urban setting with buildings as a backdrop.', url='http://images.cocodataset.org/val2017/000000087038.jpg', year='2023'),\n",
       " Row(_id=Row(oid='66df138714a70899133d85b6'), caption='a blue bicycle parked alongside a city street with two traffic lights in the foreground. the street is lined with buildings and trees, and there are vehicles in motion. the bicycle is located to the right of the traffic lights, and there are no pedestrians walking on the sidewalk. the image appears to be taken during the daytime, but the exact time is unknown. the bicycle is parked in an urban setting, possibly for commuting or errands. there are no clear signage or advertisements in the immediate vicinity of the bicycle.', created_time=datetime.datetime(2024, 9, 10, 5, 25, 56, 734000), howpublished='https://huggingface.co/datasets/laion/220k-GPT4Vision-captions-from-LIVIS', publisher='HuggingFace', short_caption='a blue bicycle in an urban setting, parked alongside a city street with two traffic lights and buildings, trees, and moving vehicles nearby.', url='http://images.cocodataset.org/val2017/000000174482.jpg', year='2023'),\n",
       " Row(_id=Row(oid='66df138714a70899133d85b7'), caption='a bathroom with various objects, including a toilet, a sink, a shower area with a curtain, a mirror, a fan, an air conditioner, and two rolls of toilet tissue. the shower area has some tiles missing or a broken section of the wall exposed. the fan is located on the upper wall to the left of the toilet. there is evidence of damage or repair in the shower area.', created_time=datetime.datetime(2024, 9, 10, 5, 25, 56, 734000), howpublished='https://huggingface.co/datasets/laion/220k-GPT4Vision-captions-from-LIVIS', publisher='HuggingFace', short_caption='a worn bathroom contains a toilet, sink, shower with ceiling damage, mirror, fan, air conditioner, and toiletries.', url='http://images.cocodataset.org/val2017/000000403385.jpg', year='2023')]"
      ]
     },
     "execution_count": 43,
     "metadata": {},
     "output_type": "execute_result"
    }
   ],
   "source": [
    "temp_lwc = bronze_df.withColumn('caption', lower(col('caption')))\n",
    "temp_lwc = temp_lwc.withColumn('short_caption', lower(col('short_caption')))\n",
    "temp_lwc.take(5)"
   ]
  },
  {
   "cell_type": "code",
   "execution_count": 44,
   "metadata": {},
   "outputs": [
    {
     "data": {
      "text/plain": [
       "[Row(_id=Row(oid='66df138714a70899133d85b3'), caption='a kitchen with wooden cabinets on the walls a stove multiple drawers a refrigerator a counter with fruits and a wellorganized layout for cooking and storage needs', created_time=datetime.datetime(2024, 9, 10, 5, 25, 56, 734000), howpublished='https://huggingface.co/datasets/laion/220k-GPT4Vision-captions-from-LIVIS', publisher='HuggingFace', short_caption='wellorganized kitchen with wooden cabinets a stove multiple drawers a refrigerator counter space with fruits and a clutterfree layout for efficient cooking and storage needs', url='http://images.cocodataset.org/val2017/000000037777.jpg', year='2023'),\n",
       " Row(_id=Row(oid='66df138714a70899133d85b4'), caption='a street scene with construction scaffolding three individuals a shopping cart filled with personal belongings street signs and a sidewalk the construction scaffolding is blue and has text about the construction company and contact details one individual is walking by another person is standing and looking at something in their hands and the third person is behind a shopping cart going through the items inside there are no vehicles visible in the image the shopping cart filled with personal belongings might suggest that the individual using it is homeless or transient the time of day appears to be daytime but no direct indicators of weather conditions are present although the presence of personal umbrellas might suggest rain', created_time=datetime.datetime(2024, 9, 10, 5, 25, 56, 734000), howpublished='https://huggingface.co/datasets/laion/220k-GPT4Vision-captions-from-LIVIS', publisher='HuggingFace', short_caption='construction scaffolding three individuals shopping cart with belongings street signs and sidewalk scene during daytime with possible rain and hints of homelessness or transience for one individual', url='http://images.cocodataset.org/val2017/000000252219.jpg', year='2023'),\n",
       " Row(_id=Row(oid='66df138714a70899133d85b5'), caption='multiple people wearing sweatshirts a person on a bicycle performing tricks and another person midjump off a skateboarding ramp the backdrop consists of buildings with graffiti artworks adding a vibrant feel to the urban setting the image appears to be set in an urban skate park or a designated area for extreme sports within a city', created_time=datetime.datetime(2024, 9, 10, 5, 25, 56, 734000), howpublished='https://huggingface.co/datasets/laion/220k-GPT4Vision-captions-from-LIVIS', publisher='HuggingFace', short_caption='multiple people wearing sweatshirts a person on a bicycle performing tricks and another person midjump off a skateboarding ramp in a graffitifilled urban setting with buildings as a backdrop', url='http://images.cocodataset.org/val2017/000000087038.jpg', year='2023'),\n",
       " Row(_id=Row(oid='66df138714a70899133d85b6'), caption='a blue bicycle parked alongside a city street with two traffic lights in the foreground the street is lined with buildings and trees and there are vehicles in motion the bicycle is located to the right of the traffic lights and there are no pedestrians walking on the sidewalk the image appears to be taken during the daytime but the exact time is unknown the bicycle is parked in an urban setting possibly for commuting or errands there are no clear signage or advertisements in the immediate vicinity of the bicycle', created_time=datetime.datetime(2024, 9, 10, 5, 25, 56, 734000), howpublished='https://huggingface.co/datasets/laion/220k-GPT4Vision-captions-from-LIVIS', publisher='HuggingFace', short_caption='a blue bicycle in an urban setting parked alongside a city street with two traffic lights and buildings trees and moving vehicles nearby', url='http://images.cocodataset.org/val2017/000000174482.jpg', year='2023'),\n",
       " Row(_id=Row(oid='66df138714a70899133d85b7'), caption='a bathroom with various objects including a toilet a sink a shower area with a curtain a mirror a fan an air conditioner and two rolls of toilet tissue the shower area has some tiles missing or a broken section of the wall exposed the fan is located on the upper wall to the left of the toilet there is evidence of damage or repair in the shower area', created_time=datetime.datetime(2024, 9, 10, 5, 25, 56, 734000), howpublished='https://huggingface.co/datasets/laion/220k-GPT4Vision-captions-from-LIVIS', publisher='HuggingFace', short_caption='a worn bathroom contains a toilet sink shower with ceiling damage mirror fan air conditioner and toiletries', url='http://images.cocodataset.org/val2017/000000403385.jpg', year='2023')]"
      ]
     },
     "execution_count": 44,
     "metadata": {},
     "output_type": "execute_result"
    }
   ],
   "source": [
    "def remove_punc(text):\n",
    "    return re.sub(r'[^a-zA-Z\\s]', '', text)\n",
    "\n",
    "remove_punc_udf = F.udf(remove_punc, StringType())\n",
    "\n",
    "temp_rmp = temp_lwc.withColumn('caption', remove_punc_udf(col('caption')))\n",
    "temp_rmp = temp_rmp.withColumn('short_caption', remove_punc_udf(col('short_caption')))\n",
    "temp_rmp.take(5)"
   ]
  },
  {
   "cell_type": "code",
   "execution_count": 45,
   "metadata": {},
   "outputs": [
    {
     "data": {
      "text/plain": [
       "[Row(_id=Row(oid='66df138714a70899133d85b3'), caption='a kitchen with wooden cabinets on the walls a stove multiple drawers a refrigerator a counter with fruits and a wellorganized layout for cooking and storage needs', created_time=datetime.datetime(2024, 9, 10, 5, 25, 56, 734000), howpublished='https://huggingface.co/datasets/laion/220k-GPT4Vision-captions-from-LIVIS', publisher='HuggingFace', short_caption='wellorganized kitchen with wooden cabinets a stove multiple drawers a refrigerator counter space with fruits and a clutterfree layout for efficient cooking and storage needs', url='http://images.cocodataset.org/val2017/000000037777.jpg', year='2023', caption_tokens=['a', 'kitchen', 'with', 'wooden', 'cabinets', 'on', 'the', 'walls', 'a', 'stove', 'multiple', 'drawers', 'a', 'refrigerator', 'a', 'counter', 'with', 'fruits', 'and', 'a', 'wellorganized', 'layout', 'for', 'cooking', 'and', 'storage', 'needs'], short_caption_tokens=['wellorganized', 'kitchen', 'with', 'wooden', 'cabinets', 'a', 'stove', 'multiple', 'drawers', 'a', 'refrigerator', 'counter', 'space', 'with', 'fruits', 'and', 'a', 'clutterfree', 'layout', 'for', 'efficient', 'cooking', 'and', 'storage', 'needs']),\n",
       " Row(_id=Row(oid='66df138714a70899133d85b4'), caption='a street scene with construction scaffolding three individuals a shopping cart filled with personal belongings street signs and a sidewalk the construction scaffolding is blue and has text about the construction company and contact details one individual is walking by another person is standing and looking at something in their hands and the third person is behind a shopping cart going through the items inside there are no vehicles visible in the image the shopping cart filled with personal belongings might suggest that the individual using it is homeless or transient the time of day appears to be daytime but no direct indicators of weather conditions are present although the presence of personal umbrellas might suggest rain', created_time=datetime.datetime(2024, 9, 10, 5, 25, 56, 734000), howpublished='https://huggingface.co/datasets/laion/220k-GPT4Vision-captions-from-LIVIS', publisher='HuggingFace', short_caption='construction scaffolding three individuals shopping cart with belongings street signs and sidewalk scene during daytime with possible rain and hints of homelessness or transience for one individual', url='http://images.cocodataset.org/val2017/000000252219.jpg', year='2023', caption_tokens=['a', 'street', 'scene', 'with', 'construction', 'scaffolding', 'three', 'individuals', 'a', 'shopping', 'cart', 'filled', 'with', 'personal', 'belongings', 'street', 'signs', 'and', 'a', 'sidewalk', 'the', 'construction', 'scaffolding', 'is', 'blue', 'and', 'has', 'text', 'about', 'the', 'construction', 'company', 'and', 'contact', 'details', 'one', 'individual', 'is', 'walking', 'by', 'another', 'person', 'is', 'standing', 'and', 'looking', 'at', 'something', 'in', 'their', 'hands', 'and', 'the', 'third', 'person', 'is', 'behind', 'a', 'shopping', 'cart', 'going', 'through', 'the', 'items', 'inside', 'there', 'are', 'no', 'vehicles', 'visible', 'in', 'the', 'image', 'the', 'shopping', 'cart', 'filled', 'with', 'personal', 'belongings', 'might', 'suggest', 'that', 'the', 'individual', 'using', 'it', 'is', 'homeless', 'or', 'transient', 'the', 'time', 'of', 'day', 'appears', 'to', 'be', 'daytime', 'but', 'no', 'direct', 'indicators', 'of', 'weather', 'conditions', 'are', 'present', 'although', 'the', 'presence', 'of', 'personal', 'umbrellas', 'might', 'suggest', 'rain'], short_caption_tokens=['construction', 'scaffolding', 'three', 'individuals', 'shopping', 'cart', 'with', 'belongings', 'street', 'signs', 'and', 'sidewalk', 'scene', 'during', 'daytime', 'with', 'possible', 'rain', 'and', 'hints', 'of', 'homelessness', 'or', 'transience', 'for', 'one', 'individual']),\n",
       " Row(_id=Row(oid='66df138714a70899133d85b5'), caption='multiple people wearing sweatshirts a person on a bicycle performing tricks and another person midjump off a skateboarding ramp the backdrop consists of buildings with graffiti artworks adding a vibrant feel to the urban setting the image appears to be set in an urban skate park or a designated area for extreme sports within a city', created_time=datetime.datetime(2024, 9, 10, 5, 25, 56, 734000), howpublished='https://huggingface.co/datasets/laion/220k-GPT4Vision-captions-from-LIVIS', publisher='HuggingFace', short_caption='multiple people wearing sweatshirts a person on a bicycle performing tricks and another person midjump off a skateboarding ramp in a graffitifilled urban setting with buildings as a backdrop', url='http://images.cocodataset.org/val2017/000000087038.jpg', year='2023', caption_tokens=['multiple', 'people', 'wearing', 'sweatshirts', 'a', 'person', 'on', 'a', 'bicycle', 'performing', 'tricks', 'and', 'another', 'person', 'midjump', 'off', 'a', 'skateboarding', 'ramp', 'the', 'backdrop', 'consists', 'of', 'buildings', 'with', 'graffiti', 'artworks', 'adding', 'a', 'vibrant', 'feel', 'to', 'the', 'urban', 'setting', 'the', 'image', 'appears', 'to', 'be', 'set', 'in', 'an', 'urban', 'skate', 'park', 'or', 'a', 'designated', 'area', 'for', 'extreme', 'sports', 'within', 'a', 'city'], short_caption_tokens=['multiple', 'people', 'wearing', 'sweatshirts', 'a', 'person', 'on', 'a', 'bicycle', 'performing', 'tricks', 'and', 'another', 'person', 'midjump', 'off', 'a', 'skateboarding', 'ramp', 'in', 'a', 'graffitifilled', 'urban', 'setting', 'with', 'buildings', 'as', 'a', 'backdrop']),\n",
       " Row(_id=Row(oid='66df138714a70899133d85b6'), caption='a blue bicycle parked alongside a city street with two traffic lights in the foreground the street is lined with buildings and trees and there are vehicles in motion the bicycle is located to the right of the traffic lights and there are no pedestrians walking on the sidewalk the image appears to be taken during the daytime but the exact time is unknown the bicycle is parked in an urban setting possibly for commuting or errands there are no clear signage or advertisements in the immediate vicinity of the bicycle', created_time=datetime.datetime(2024, 9, 10, 5, 25, 56, 734000), howpublished='https://huggingface.co/datasets/laion/220k-GPT4Vision-captions-from-LIVIS', publisher='HuggingFace', short_caption='a blue bicycle in an urban setting parked alongside a city street with two traffic lights and buildings trees and moving vehicles nearby', url='http://images.cocodataset.org/val2017/000000174482.jpg', year='2023', caption_tokens=['a', 'blue', 'bicycle', 'parked', 'alongside', 'a', 'city', 'street', 'with', 'two', 'traffic', 'lights', 'in', 'the', 'foreground', 'the', 'street', 'is', 'lined', 'with', 'buildings', 'and', 'trees', 'and', 'there', 'are', 'vehicles', 'in', 'motion', 'the', 'bicycle', 'is', 'located', 'to', 'the', 'right', 'of', 'the', 'traffic', 'lights', 'and', 'there', 'are', 'no', 'pedestrians', 'walking', 'on', 'the', 'sidewalk', 'the', 'image', 'appears', 'to', 'be', 'taken', 'during', 'the', 'daytime', 'but', 'the', 'exact', 'time', 'is', 'unknown', 'the', 'bicycle', 'is', 'parked', 'in', 'an', 'urban', 'setting', 'possibly', 'for', 'commuting', 'or', 'errands', 'there', 'are', 'no', 'clear', 'signage', 'or', 'advertisements', 'in', 'the', 'immediate', 'vicinity', 'of', 'the', 'bicycle'], short_caption_tokens=['a', 'blue', 'bicycle', 'in', 'an', 'urban', 'setting', 'parked', 'alongside', 'a', 'city', 'street', 'with', 'two', 'traffic', 'lights', 'and', 'buildings', 'trees', 'and', 'moving', 'vehicles', 'nearby']),\n",
       " Row(_id=Row(oid='66df138714a70899133d85b7'), caption='a bathroom with various objects including a toilet a sink a shower area with a curtain a mirror a fan an air conditioner and two rolls of toilet tissue the shower area has some tiles missing or a broken section of the wall exposed the fan is located on the upper wall to the left of the toilet there is evidence of damage or repair in the shower area', created_time=datetime.datetime(2024, 9, 10, 5, 25, 56, 734000), howpublished='https://huggingface.co/datasets/laion/220k-GPT4Vision-captions-from-LIVIS', publisher='HuggingFace', short_caption='a worn bathroom contains a toilet sink shower with ceiling damage mirror fan air conditioner and toiletries', url='http://images.cocodataset.org/val2017/000000403385.jpg', year='2023', caption_tokens=['a', 'bathroom', 'with', 'various', 'objects', 'including', 'a', 'toilet', 'a', 'sink', 'a', 'shower', 'area', 'with', 'a', 'curtain', 'a', 'mirror', 'a', 'fan', 'an', 'air', 'conditioner', 'and', 'two', 'rolls', 'of', 'toilet', 'tissue', 'the', 'shower', 'area', 'has', 'some', 'tiles', 'missing', 'or', 'a', 'broken', 'section', 'of', 'the', 'wall', 'exposed', 'the', 'fan', 'is', 'located', 'on', 'the', 'upper', 'wall', 'to', 'the', 'left', 'of', 'the', 'toilet', 'there', 'is', 'evidence', 'of', 'damage', 'or', 'repair', 'in', 'the', 'shower', 'area'], short_caption_tokens=['a', 'worn', 'bathroom', 'contains', 'a', 'toilet', 'sink', 'shower', 'with', 'ceiling', 'damage', 'mirror', 'fan', 'air', 'conditioner', 'and', 'toiletries'])]"
      ]
     },
     "execution_count": 45,
     "metadata": {},
     "output_type": "execute_result"
    }
   ],
   "source": [
    "tokenize_udf = F.udf(lambda text: text.split(\" \"), ArrayType(StringType()))\n",
    "\n",
    "temp_tok = temp_rmp.withColumn('caption_tokens', tokenize_udf(col('caption')))\n",
    "temp_tok = temp_tok.withColumn('short_caption_tokens', tokenize_udf(col('short_caption')))\n",
    "temp_tok.take(5)"
   ]
  },
  {
   "cell_type": "code",
   "execution_count": 46,
   "metadata": {},
   "outputs": [
    {
     "data": {
      "text/plain": [
       "[Row(url='http://images.cocodataset.org/val2017/000000037777.jpg', caption='a kitchen with wooden cabinets on the walls a stove multiple drawers a refrigerator a counter with fruits and a wellorganized layout for cooking and storage needs', short_caption='wellorganized kitchen with wooden cabinets a stove multiple drawers a refrigerator counter space with fruits and a clutterfree layout for efficient cooking and storage needs', caption_tokens=['a', 'kitchen', 'with', 'wooden', 'cabinets', 'on', 'the', 'walls', 'a', 'stove', 'multiple', 'drawers', 'a', 'refrigerator', 'a', 'counter', 'with', 'fruits', 'and', 'a', 'wellorganized', 'layout', 'for', 'cooking', 'and', 'storage', 'needs'], short_caption_tokens=['wellorganized', 'kitchen', 'with', 'wooden', 'cabinets', 'a', 'stove', 'multiple', 'drawers', 'a', 'refrigerator', 'counter', 'space', 'with', 'fruits', 'and', 'a', 'clutterfree', 'layout', 'for', 'efficient', 'cooking', 'and', 'storage', 'needs'], publisher='HuggingFace', created_time=datetime.datetime(2024, 9, 12, 23, 39, 2, 412599)),\n",
       " Row(url='http://images.cocodataset.org/val2017/000000252219.jpg', caption='a street scene with construction scaffolding three individuals a shopping cart filled with personal belongings street signs and a sidewalk the construction scaffolding is blue and has text about the construction company and contact details one individual is walking by another person is standing and looking at something in their hands and the third person is behind a shopping cart going through the items inside there are no vehicles visible in the image the shopping cart filled with personal belongings might suggest that the individual using it is homeless or transient the time of day appears to be daytime but no direct indicators of weather conditions are present although the presence of personal umbrellas might suggest rain', short_caption='construction scaffolding three individuals shopping cart with belongings street signs and sidewalk scene during daytime with possible rain and hints of homelessness or transience for one individual', caption_tokens=['a', 'street', 'scene', 'with', 'construction', 'scaffolding', 'three', 'individuals', 'a', 'shopping', 'cart', 'filled', 'with', 'personal', 'belongings', 'street', 'signs', 'and', 'a', 'sidewalk', 'the', 'construction', 'scaffolding', 'is', 'blue', 'and', 'has', 'text', 'about', 'the', 'construction', 'company', 'and', 'contact', 'details', 'one', 'individual', 'is', 'walking', 'by', 'another', 'person', 'is', 'standing', 'and', 'looking', 'at', 'something', 'in', 'their', 'hands', 'and', 'the', 'third', 'person', 'is', 'behind', 'a', 'shopping', 'cart', 'going', 'through', 'the', 'items', 'inside', 'there', 'are', 'no', 'vehicles', 'visible', 'in', 'the', 'image', 'the', 'shopping', 'cart', 'filled', 'with', 'personal', 'belongings', 'might', 'suggest', 'that', 'the', 'individual', 'using', 'it', 'is', 'homeless', 'or', 'transient', 'the', 'time', 'of', 'day', 'appears', 'to', 'be', 'daytime', 'but', 'no', 'direct', 'indicators', 'of', 'weather', 'conditions', 'are', 'present', 'although', 'the', 'presence', 'of', 'personal', 'umbrellas', 'might', 'suggest', 'rain'], short_caption_tokens=['construction', 'scaffolding', 'three', 'individuals', 'shopping', 'cart', 'with', 'belongings', 'street', 'signs', 'and', 'sidewalk', 'scene', 'during', 'daytime', 'with', 'possible', 'rain', 'and', 'hints', 'of', 'homelessness', 'or', 'transience', 'for', 'one', 'individual'], publisher='HuggingFace', created_time=datetime.datetime(2024, 9, 12, 23, 39, 2, 412599)),\n",
       " Row(url='http://images.cocodataset.org/val2017/000000087038.jpg', caption='multiple people wearing sweatshirts a person on a bicycle performing tricks and another person midjump off a skateboarding ramp the backdrop consists of buildings with graffiti artworks adding a vibrant feel to the urban setting the image appears to be set in an urban skate park or a designated area for extreme sports within a city', short_caption='multiple people wearing sweatshirts a person on a bicycle performing tricks and another person midjump off a skateboarding ramp in a graffitifilled urban setting with buildings as a backdrop', caption_tokens=['multiple', 'people', 'wearing', 'sweatshirts', 'a', 'person', 'on', 'a', 'bicycle', 'performing', 'tricks', 'and', 'another', 'person', 'midjump', 'off', 'a', 'skateboarding', 'ramp', 'the', 'backdrop', 'consists', 'of', 'buildings', 'with', 'graffiti', 'artworks', 'adding', 'a', 'vibrant', 'feel', 'to', 'the', 'urban', 'setting', 'the', 'image', 'appears', 'to', 'be', 'set', 'in', 'an', 'urban', 'skate', 'park', 'or', 'a', 'designated', 'area', 'for', 'extreme', 'sports', 'within', 'a', 'city'], short_caption_tokens=['multiple', 'people', 'wearing', 'sweatshirts', 'a', 'person', 'on', 'a', 'bicycle', 'performing', 'tricks', 'and', 'another', 'person', 'midjump', 'off', 'a', 'skateboarding', 'ramp', 'in', 'a', 'graffitifilled', 'urban', 'setting', 'with', 'buildings', 'as', 'a', 'backdrop'], publisher='HuggingFace', created_time=datetime.datetime(2024, 9, 12, 23, 39, 2, 412599)),\n",
       " Row(url='http://images.cocodataset.org/val2017/000000174482.jpg', caption='a blue bicycle parked alongside a city street with two traffic lights in the foreground the street is lined with buildings and trees and there are vehicles in motion the bicycle is located to the right of the traffic lights and there are no pedestrians walking on the sidewalk the image appears to be taken during the daytime but the exact time is unknown the bicycle is parked in an urban setting possibly for commuting or errands there are no clear signage or advertisements in the immediate vicinity of the bicycle', short_caption='a blue bicycle in an urban setting parked alongside a city street with two traffic lights and buildings trees and moving vehicles nearby', caption_tokens=['a', 'blue', 'bicycle', 'parked', 'alongside', 'a', 'city', 'street', 'with', 'two', 'traffic', 'lights', 'in', 'the', 'foreground', 'the', 'street', 'is', 'lined', 'with', 'buildings', 'and', 'trees', 'and', 'there', 'are', 'vehicles', 'in', 'motion', 'the', 'bicycle', 'is', 'located', 'to', 'the', 'right', 'of', 'the', 'traffic', 'lights', 'and', 'there', 'are', 'no', 'pedestrians', 'walking', 'on', 'the', 'sidewalk', 'the', 'image', 'appears', 'to', 'be', 'taken', 'during', 'the', 'daytime', 'but', 'the', 'exact', 'time', 'is', 'unknown', 'the', 'bicycle', 'is', 'parked', 'in', 'an', 'urban', 'setting', 'possibly', 'for', 'commuting', 'or', 'errands', 'there', 'are', 'no', 'clear', 'signage', 'or', 'advertisements', 'in', 'the', 'immediate', 'vicinity', 'of', 'the', 'bicycle'], short_caption_tokens=['a', 'blue', 'bicycle', 'in', 'an', 'urban', 'setting', 'parked', 'alongside', 'a', 'city', 'street', 'with', 'two', 'traffic', 'lights', 'and', 'buildings', 'trees', 'and', 'moving', 'vehicles', 'nearby'], publisher='HuggingFace', created_time=datetime.datetime(2024, 9, 12, 23, 39, 2, 412599)),\n",
       " Row(url='http://images.cocodataset.org/val2017/000000403385.jpg', caption='a bathroom with various objects including a toilet a sink a shower area with a curtain a mirror a fan an air conditioner and two rolls of toilet tissue the shower area has some tiles missing or a broken section of the wall exposed the fan is located on the upper wall to the left of the toilet there is evidence of damage or repair in the shower area', short_caption='a worn bathroom contains a toilet sink shower with ceiling damage mirror fan air conditioner and toiletries', caption_tokens=['a', 'bathroom', 'with', 'various', 'objects', 'including', 'a', 'toilet', 'a', 'sink', 'a', 'shower', 'area', 'with', 'a', 'curtain', 'a', 'mirror', 'a', 'fan', 'an', 'air', 'conditioner', 'and', 'two', 'rolls', 'of', 'toilet', 'tissue', 'the', 'shower', 'area', 'has', 'some', 'tiles', 'missing', 'or', 'a', 'broken', 'section', 'of', 'the', 'wall', 'exposed', 'the', 'fan', 'is', 'located', 'on', 'the', 'upper', 'wall', 'to', 'the', 'left', 'of', 'the', 'toilet', 'there', 'is', 'evidence', 'of', 'damage', 'or', 'repair', 'in', 'the', 'shower', 'area'], short_caption_tokens=['a', 'worn', 'bathroom', 'contains', 'a', 'toilet', 'sink', 'shower', 'with', 'ceiling', 'damage', 'mirror', 'fan', 'air', 'conditioner', 'and', 'toiletries'], publisher='HuggingFace', created_time=datetime.datetime(2024, 9, 12, 23, 39, 2, 412599))]"
      ]
     },
     "execution_count": 46,
     "metadata": {},
     "output_type": "execute_result"
    }
   ],
   "source": [
    "final_df = temp_tok.withColumn('created_time', lit(datetime.now()))\n",
    "final_df = final_df.select(['url', 'caption', 'short_caption', 'caption_tokens', 'short_caption_tokens', 'publisher', 'created_time'])\n",
    "final_df.take(5)"
   ]
  },
  {
   "cell_type": "code",
   "execution_count": 47,
   "metadata": {},
   "outputs": [],
   "source": [
    "# refined_data = temp.toDF().randomSplit([1/1000]*1000)\n",
    "# batch = refined_data[0]"
   ]
  },
  {
   "cell_type": "code",
   "execution_count": null,
   "metadata": {},
   "outputs": [],
   "source": [
    "final_df.write.format(\"com.mongodb.spark.sql.DefaultSource\") \\\n",
    "                .option('spark.mongodb.output.uri', mongo_url) \\\n",
    "                .option('spark.mongodb.output.database', 'imcp') \\\n",
    "                .option('spark.mongodb.output.collection', 'refined') \\\n",
    "                .mode('append') \\\n",
    "                .save()"
   ]
  },
  {
   "cell_type": "code",
   "execution_count": 39,
   "metadata": {},
   "outputs": [],
   "source": [
    "spark.stop()"
   ]
  },
  {
   "cell_type": "code",
   "execution_count": 3,
   "metadata": {},
   "outputs": [
    {
     "name": "stdout",
     "output_type": "stream",
     "text": [
      "Package                                  Version\n",
      "---------------------------------------- ------------\n",
      "absl-py                                  2.1.0\n",
      "aiohappyeyeballs                         2.4.0\n",
      "aiohttp                                  3.10.5\n",
      "aiosignal                                1.3.1\n",
      "alembic                                  1.13.2\n",
      "anyio                                    4.4.0\n",
      "apache-airflow                           2.10.0\n",
      "apache-airflow-providers-common-compat   1.2.0\n",
      "apache-airflow-providers-common-io       1.4.0\n",
      "apache-airflow-providers-common-sql      1.16.0\n",
      "apache-airflow-providers-fab             1.3.0\n",
      "apache-airflow-providers-ftp             3.11.0\n",
      "apache-airflow-providers-http            4.13.0\n",
      "apache-airflow-providers-imap            3.7.0\n",
      "apache-airflow-providers-smtp            1.8.0\n",
      "apache-airflow-providers-sqlite          3.9.0\n",
      "apispec                                  6.6.1\n",
      "argcomplete                              3.5.0\n",
      "asgiref                                  3.8.1\n",
      "asttokens                                2.4.1\n",
      "astunparse                               1.6.3\n",
      "attrs                                    24.2.0\n",
      "babel                                    2.16.0\n",
      "blinker                                  1.8.2\n",
      "cachelib                                 0.9.0\n",
      "cachetools                               5.5.0\n",
      "certifi                                  2024.7.4\n",
      "cffi                                     1.17.0\n",
      "charset-normalizer                       3.3.2\n",
      "click                                    8.1.7\n",
      "clickclick                               20.10.2\n",
      "colorama                                 0.4.6\n",
      "colorlog                                 6.8.2\n",
      "comm                                     0.2.2\n",
      "ConfigUpdater                            3.2\n",
      "connexion                                2.14.2\n",
      "cron-descriptor                          1.4.3\n",
      "croniter                                 3.0.3\n",
      "cryptography                             43.0.0\n",
      "debugpy                                  1.8.5\n",
      "decorator                                5.1.1\n",
      "Deprecated                               1.2.14\n",
      "dill                                     0.3.8\n",
      "dnspython                                2.6.1\n",
      "docutils                                 0.21.2\n",
      "elastic-transport                        8.15.0\n",
      "elasticsearch                            8.15.0\n",
      "email_validator                          2.2.0\n",
      "executing                                2.0.1\n",
      "filelock                                 3.16.1\n",
      "Flask                                    2.2.5\n",
      "Flask-AppBuilder                         4.5.0\n",
      "Flask-Babel                              2.0.0\n",
      "Flask-Caching                            2.3.0\n",
      "Flask-JWT-Extended                       4.6.0\n",
      "Flask-Limiter                            3.8.0\n",
      "Flask-Login                              0.6.3\n",
      "Flask-Session                            0.5.0\n",
      "Flask-SQLAlchemy                         2.5.1\n",
      "Flask-WTF                                1.2.1\n",
      "flatbuffers                              24.3.25\n",
      "frozenlist                               1.4.1\n",
      "fsspec                                   2024.6.1\n",
      "gast                                     0.6.0\n",
      "google-api-core                          2.19.1\n",
      "google-auth                              2.34.0\n",
      "google-cloud-core                        2.4.1\n",
      "google-cloud-firestore                   2.17.2\n",
      "google-pasta                             0.2.0\n",
      "google-re2                               1.1.20240702\n",
      "googleapis-common-protos                 1.63.2\n",
      "greenlet                                 3.0.3\n",
      "grpcio                                   1.66.0\n",
      "grpcio-status                            1.66.0\n",
      "gunicorn                                 23.0.0\n",
      "h11                                      0.14.0\n",
      "h5py                                     3.11.0\n",
      "httpcore                                 1.0.5\n",
      "httpx                                    0.27.0\n",
      "idna                                     3.8\n",
      "importlib_metadata                       8.0.0\n",
      "importlib_resources                      6.4.4\n",
      "inflection                               0.5.1\n",
      "ipykernel                                6.29.5\n",
      "ipython                                  8.26.0\n",
      "itsdangerous                             2.2.0\n",
      "jedi                                     0.19.1\n",
      "Jinja2                                   3.1.4\n",
      "jmespath                                 1.0.1\n",
      "jsonschema                               4.23.0\n",
      "jsonschema-specifications                2023.12.1\n",
      "jupyter_client                           8.6.2\n",
      "jupyter_core                             5.7.2\n",
      "keras                                    3.5.0\n",
      "lazy-object-proxy                        1.10.0\n",
      "libclang                                 18.1.1\n",
      "limits                                   3.13.0\n",
      "linkify-it-py                            2.0.3\n",
      "lockfile                                 0.12.2\n",
      "Mako                                     1.3.5\n",
      "Markdown                                 3.7\n",
      "markdown-it-py                           3.0.0\n",
      "MarkupSafe                               2.1.5\n",
      "marshmallow                              3.22.0\n",
      "marshmallow-oneofschema                  3.1.1\n",
      "marshmallow-sqlalchemy                   0.28.2\n",
      "matplotlib-inline                        0.1.7\n",
      "mdit-py-plugins                          0.4.1\n",
      "mdurl                                    0.1.2\n",
      "methodtools                              0.4.7\n",
      "ml-dtypes                                0.4.0\n",
      "more-itertools                           10.4.0\n",
      "mpmath                                   1.3.0\n",
      "multidict                                6.0.5\n",
      "namex                                    0.0.8\n",
      "nest-asyncio                             1.6.0\n",
      "networkx                                 3.3\n",
      "numpy                                    1.26.4\n",
      "opencv-python                            4.10.0.84\n",
      "opentelemetry-api                        1.26.0\n",
      "opentelemetry-exporter-otlp              1.26.0\n",
      "opentelemetry-exporter-otlp-proto-common 1.26.0\n",
      "opentelemetry-exporter-otlp-proto-grpc   1.26.0\n",
      "opentelemetry-exporter-otlp-proto-http   1.26.0\n",
      "opentelemetry-proto                      1.26.0\n",
      "opentelemetry-sdk                        1.26.0\n",
      "opentelemetry-semantic-conventions       0.47b0\n",
      "opt-einsum                               3.3.0\n",
      "optree                                   0.12.1\n",
      "ordered-set                              4.1.0\n",
      "packaging                                24.1\n",
      "pandas                                   2.2.2\n",
      "parso                                    0.8.4\n",
      "pathspec                                 0.12.1\n",
      "pendulum                                 3.0.0\n",
      "pillow                                   10.4.0\n",
      "pip                                      24.2\n",
      "platformdirs                             4.2.2\n",
      "pluggy                                   1.5.0\n",
      "prison                                   0.2.1\n",
      "prompt_toolkit                           3.0.47\n",
      "proto-plus                               1.24.0\n",
      "protobuf                                 4.25.4\n",
      "psutil                                   6.0.0\n",
      "pure_eval                                0.2.3\n",
      "py4j                                     0.10.9.7\n",
      "pyarrow                                  17.0.0\n",
      "pyasn1                                   0.6.0\n",
      "pyasn1_modules                           0.4.0\n",
      "pycparser                                2.22\n",
      "Pygments                                 2.18.0\n",
      "PyJWT                                    2.9.0\n",
      "pymongo                                  4.8.0\n",
      "pyspark                                  3.5.2\n",
      "python-daemon                            3.0.1\n",
      "python-dateutil                          2.9.0.post0\n",
      "python-nvd3                              0.16.0\n",
      "python-slugify                           8.0.4\n",
      "pytz                                     2024.1\n",
      "pywin32                                  306\n",
      "PyYAML                                   6.0.2\n",
      "pyzmq                                    26.2.0\n",
      "referencing                              0.35.1\n",
      "requests                                 2.32.3\n",
      "requests-toolbelt                        1.0.0\n",
      "retrying                                 1.3.4\n",
      "rfc3339-validator                        0.1.4\n",
      "rich                                     13.7.1\n",
      "rich-argparse                            1.5.2\n",
      "rpds-py                                  0.20.0\n",
      "rsa                                      4.9\n",
      "scipy                                    1.14.1\n",
      "setproctitle                             1.3.3\n",
      "setuptools                               65.5.0\n",
      "six                                      1.16.0\n",
      "sniffio                                  1.3.1\n",
      "SQLAlchemy                               1.4.53\n",
      "SQLAlchemy-JSONField                     1.0.2\n",
      "SQLAlchemy-Utils                         0.41.2\n",
      "sqlparse                                 0.5.1\n",
      "stack-data                               0.6.3\n",
      "sympy                                    1.13.3\n",
      "tabulate                                 0.9.0\n",
      "tenacity                                 9.0.0\n",
      "tensorboard                              2.17.1\n",
      "tensorboard-data-server                  0.7.2\n",
      "tensorflow                               2.17.0\n",
      "tensorflow-intel                         2.17.0\n",
      "tensorflow-io-gcs-filesystem             0.31.0\n",
      "termcolor                                2.4.0\n",
      "text-unidecode                           1.3\n",
      "time-machine                             2.15.0\n",
      "torch                                    2.4.1\n",
      "torchvision                              0.19.1\n",
      "tornado                                  6.4.1\n",
      "tqdm                                     4.66.5\n",
      "traitlets                                5.14.3\n",
      "typing_extensions                        4.12.2\n",
      "tzdata                                   2024.1\n",
      "uc-micro-py                              1.0.3\n",
      "unicodecsv                               0.14.1\n",
      "universal_pathlib                        0.2.3\n",
      "urllib3                                  2.2.2\n",
      "wcwidth                                  0.2.13\n",
      "Werkzeug                                 2.2.3\n",
      "wheel                                    0.44.0\n",
      "wirerope                                 0.4.7\n",
      "wrapt                                    1.16.0\n",
      "WTForms                                  3.1.2\n",
      "yarl                                     1.9.4\n",
      "zipp                                     3.20.0\n",
      "Note: you may need to restart the kernel to use updated packages.\n"
     ]
    }
   ],
   "source": [
    "%pip list"
   ]
  }
 ],
 "metadata": {
  "kernelspec": {
   "display_name": ".venv",
   "language": "python",
   "name": "python3"
  },
  "language_info": {
   "codemirror_mode": {
    "name": "ipython",
    "version": 3
   },
   "file_extension": ".py",
   "mimetype": "text/x-python",
   "name": "python",
   "nbconvert_exporter": "python",
   "pygments_lexer": "ipython3",
   "version": "3.11.1"
  }
 },
 "nbformat": 4,
 "nbformat_minor": 2
}
