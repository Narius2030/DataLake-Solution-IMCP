{
 "cells": [
  {
   "cell_type": "code",
   "execution_count": 40,
   "metadata": {},
   "outputs": [],
   "source": [
    "from pyspark.sql import SparkSession\n",
    "from pyspark.sql.functions import col, lower, lit\n",
    "import pyspark.sql.functions as F\n",
    "from pyspark.sql.types import StringType, ArrayType\n",
    "import re\n",
    "from datetime import datetime\n",
    "import json"
   ]
  },
  {
   "cell_type": "code",
   "execution_count": 41,
   "metadata": {},
   "outputs": [
    {
     "name": "stdout",
     "output_type": "stream",
     "text": [
      "root\n",
      " |-- _id: struct (nullable = true)\n",
      " |    |-- oid: string (nullable = true)\n",
      " |-- caption: string (nullable = true)\n",
      " |-- created_time: timestamp (nullable = true)\n",
      " |-- howpublished: string (nullable = true)\n",
      " |-- publisher: string (nullable = true)\n",
      " |-- short_caption: string (nullable = true)\n",
      " |-- url: string (nullable = true)\n",
      " |-- year: string (nullable = true)\n",
      "\n",
      "None\n"
     ]
    }
   ],
   "source": [
    "with open(\"../airflow/config/env.json\", \"r\") as file:\n",
    "    config = json.load(file)\n",
    "    mongo_url = config['mongodb']['MONGO_ATLAS_PYTHON_GCP']\n",
    "\n",
    "# create a local SparkSession\n",
    "spark = SparkSession.builder \\\n",
    "                .config(\"spark.jars.packages\", \"org.mongodb.spark:mongo-spark-connector_2.12:3.0.1\") \\\n",
    "                .config(\"spark.driver.maxResultSize\", \"1g\") \\\n",
    "                .config(\"spark.network.timeout\", \"300s\") \\\n",
    "                .config(\"spark.executor.heartbeatInterval\", \"120s\") \\\n",
    "                .config(\"spark.executor.memory\", \"4g\") \\\n",
    "                .config(\"spark.driver.memory\", \"2g\") \\\n",
    "                .appName(\"Normalize data\") \\\n",
    "                .getOrCreate()\n",
    "\n",
    "# define a streaming query\n",
    "bronze_df = spark.read.format(\"com.mongodb.spark.sql.DefaultSource\") \\\n",
    "                    .option('spark.mongodb.input.uri', mongo_url) \\\n",
    "                    .option('spark.mongodb.input.database', 'imcp') \\\n",
    "                    .option('spark.mongodb.input.collection', 'bronze_layer') \\\n",
    "                    .load()\n",
    "\n",
    "print(bronze_df.printSchema())"
   ]
  },
  {
   "cell_type": "code",
   "execution_count": 42,
   "metadata": {},
   "outputs": [],
   "source": [
    "# bronze_df.write.format(\"com.mongodb.spark.sql.DefaultSource\") \\\n",
    "#             .option('spark.mongodb.output.uri', mongo_url) \\\n",
    "#             .option('spark.mongodb.output.database', 'imcp') \\\n",
    "#             .option('spark.mongodb.output.collection', 'refined') \\\n",
    "#             .mode('append') \\\n",
    "#             .save()"
   ]
  },
  {
   "cell_type": "code",
   "execution_count": 43,
   "metadata": {},
   "outputs": [
    {
     "data": {
      "text/plain": [
       "[Row(_id=Row(oid='66df138714a70899133d85b3'), caption='a kitchen with wooden cabinets on the walls, a stove, multiple drawers, a refrigerator, a counter with fruits, and a well-organized layout for cooking and storage needs.', created_time=datetime.datetime(2024, 9, 10, 5, 25, 56, 734000), howpublished='https://huggingface.co/datasets/laion/220k-GPT4Vision-captions-from-LIVIS', publisher='HuggingFace', short_caption='well-organized kitchen with wooden cabinets, a stove, multiple drawers, a refrigerator, counter space with fruits, and a clutter-free layout for efficient cooking and storage needs.', url='http://images.cocodataset.org/val2017/000000037777.jpg', year='2023'),\n",
       " Row(_id=Row(oid='66df138714a70899133d85b4'), caption='a street scene with construction scaffolding, three individuals, a shopping cart filled with personal belongings, street signs, and a sidewalk. the construction scaffolding is blue and has text about the construction company and contact details. one individual is walking by, another person is standing and looking at something in their hands, and the third person is behind a shopping cart going through the items inside. there are no vehicles visible in the image. the shopping cart filled with personal belongings might suggest that the individual using it is homeless or transient. the time of day appears to be daytime, but no direct indicators of weather conditions are present, although the presence of personal umbrellas might suggest rain.', created_time=datetime.datetime(2024, 9, 10, 5, 25, 56, 734000), howpublished='https://huggingface.co/datasets/laion/220k-GPT4Vision-captions-from-LIVIS', publisher='HuggingFace', short_caption='construction scaffolding, three individuals, shopping cart with belongings, street signs, and sidewalk scene during daytime with possible rain and hints of homelessness or transience for one individual.', url='http://images.cocodataset.org/val2017/000000252219.jpg', year='2023'),\n",
       " Row(_id=Row(oid='66df138714a70899133d85b5'), caption='multiple people wearing sweatshirts, a person on a bicycle performing tricks, and another person mid-jump off a skateboarding ramp. the backdrop consists of buildings with graffiti artworks, adding a vibrant feel to the urban setting. the image appears to be set in an urban skate park or a designated area for extreme sports within a city.', created_time=datetime.datetime(2024, 9, 10, 5, 25, 56, 734000), howpublished='https://huggingface.co/datasets/laion/220k-GPT4Vision-captions-from-LIVIS', publisher='HuggingFace', short_caption='multiple people wearing sweatshirts, a person on a bicycle performing tricks, and another person mid-jump off a skateboarding ramp in a graffiti-filled urban setting with buildings as a backdrop.', url='http://images.cocodataset.org/val2017/000000087038.jpg', year='2023'),\n",
       " Row(_id=Row(oid='66df138714a70899133d85b6'), caption='a blue bicycle parked alongside a city street with two traffic lights in the foreground. the street is lined with buildings and trees, and there are vehicles in motion. the bicycle is located to the right of the traffic lights, and there are no pedestrians walking on the sidewalk. the image appears to be taken during the daytime, but the exact time is unknown. the bicycle is parked in an urban setting, possibly for commuting or errands. there are no clear signage or advertisements in the immediate vicinity of the bicycle.', created_time=datetime.datetime(2024, 9, 10, 5, 25, 56, 734000), howpublished='https://huggingface.co/datasets/laion/220k-GPT4Vision-captions-from-LIVIS', publisher='HuggingFace', short_caption='a blue bicycle in an urban setting, parked alongside a city street with two traffic lights and buildings, trees, and moving vehicles nearby.', url='http://images.cocodataset.org/val2017/000000174482.jpg', year='2023'),\n",
       " Row(_id=Row(oid='66df138714a70899133d85b7'), caption='a bathroom with various objects, including a toilet, a sink, a shower area with a curtain, a mirror, a fan, an air conditioner, and two rolls of toilet tissue. the shower area has some tiles missing or a broken section of the wall exposed. the fan is located on the upper wall to the left of the toilet. there is evidence of damage or repair in the shower area.', created_time=datetime.datetime(2024, 9, 10, 5, 25, 56, 734000), howpublished='https://huggingface.co/datasets/laion/220k-GPT4Vision-captions-from-LIVIS', publisher='HuggingFace', short_caption='a worn bathroom contains a toilet, sink, shower with ceiling damage, mirror, fan, air conditioner, and toiletries.', url='http://images.cocodataset.org/val2017/000000403385.jpg', year='2023')]"
      ]
     },
     "execution_count": 43,
     "metadata": {},
     "output_type": "execute_result"
    }
   ],
   "source": [
    "temp_lwc = bronze_df.withColumn('caption', lower(col('caption')))\n",
    "temp_lwc = temp_lwc.withColumn('short_caption', lower(col('short_caption')))\n",
    "temp_lwc.take(5)"
   ]
  },
  {
   "cell_type": "code",
   "execution_count": 44,
   "metadata": {},
   "outputs": [
    {
     "data": {
      "text/plain": [
       "[Row(_id=Row(oid='66df138714a70899133d85b3'), caption='a kitchen with wooden cabinets on the walls a stove multiple drawers a refrigerator a counter with fruits and a wellorganized layout for cooking and storage needs', created_time=datetime.datetime(2024, 9, 10, 5, 25, 56, 734000), howpublished='https://huggingface.co/datasets/laion/220k-GPT4Vision-captions-from-LIVIS', publisher='HuggingFace', short_caption='wellorganized kitchen with wooden cabinets a stove multiple drawers a refrigerator counter space with fruits and a clutterfree layout for efficient cooking and storage needs', url='http://images.cocodataset.org/val2017/000000037777.jpg', year='2023'),\n",
       " Row(_id=Row(oid='66df138714a70899133d85b4'), caption='a street scene with construction scaffolding three individuals a shopping cart filled with personal belongings street signs and a sidewalk the construction scaffolding is blue and has text about the construction company and contact details one individual is walking by another person is standing and looking at something in their hands and the third person is behind a shopping cart going through the items inside there are no vehicles visible in the image the shopping cart filled with personal belongings might suggest that the individual using it is homeless or transient the time of day appears to be daytime but no direct indicators of weather conditions are present although the presence of personal umbrellas might suggest rain', created_time=datetime.datetime(2024, 9, 10, 5, 25, 56, 734000), howpublished='https://huggingface.co/datasets/laion/220k-GPT4Vision-captions-from-LIVIS', publisher='HuggingFace', short_caption='construction scaffolding three individuals shopping cart with belongings street signs and sidewalk scene during daytime with possible rain and hints of homelessness or transience for one individual', url='http://images.cocodataset.org/val2017/000000252219.jpg', year='2023'),\n",
       " Row(_id=Row(oid='66df138714a70899133d85b5'), caption='multiple people wearing sweatshirts a person on a bicycle performing tricks and another person midjump off a skateboarding ramp the backdrop consists of buildings with graffiti artworks adding a vibrant feel to the urban setting the image appears to be set in an urban skate park or a designated area for extreme sports within a city', created_time=datetime.datetime(2024, 9, 10, 5, 25, 56, 734000), howpublished='https://huggingface.co/datasets/laion/220k-GPT4Vision-captions-from-LIVIS', publisher='HuggingFace', short_caption='multiple people wearing sweatshirts a person on a bicycle performing tricks and another person midjump off a skateboarding ramp in a graffitifilled urban setting with buildings as a backdrop', url='http://images.cocodataset.org/val2017/000000087038.jpg', year='2023'),\n",
       " Row(_id=Row(oid='66df138714a70899133d85b6'), caption='a blue bicycle parked alongside a city street with two traffic lights in the foreground the street is lined with buildings and trees and there are vehicles in motion the bicycle is located to the right of the traffic lights and there are no pedestrians walking on the sidewalk the image appears to be taken during the daytime but the exact time is unknown the bicycle is parked in an urban setting possibly for commuting or errands there are no clear signage or advertisements in the immediate vicinity of the bicycle', created_time=datetime.datetime(2024, 9, 10, 5, 25, 56, 734000), howpublished='https://huggingface.co/datasets/laion/220k-GPT4Vision-captions-from-LIVIS', publisher='HuggingFace', short_caption='a blue bicycle in an urban setting parked alongside a city street with two traffic lights and buildings trees and moving vehicles nearby', url='http://images.cocodataset.org/val2017/000000174482.jpg', year='2023'),\n",
       " Row(_id=Row(oid='66df138714a70899133d85b7'), caption='a bathroom with various objects including a toilet a sink a shower area with a curtain a mirror a fan an air conditioner and two rolls of toilet tissue the shower area has some tiles missing or a broken section of the wall exposed the fan is located on the upper wall to the left of the toilet there is evidence of damage or repair in the shower area', created_time=datetime.datetime(2024, 9, 10, 5, 25, 56, 734000), howpublished='https://huggingface.co/datasets/laion/220k-GPT4Vision-captions-from-LIVIS', publisher='HuggingFace', short_caption='a worn bathroom contains a toilet sink shower with ceiling damage mirror fan air conditioner and toiletries', url='http://images.cocodataset.org/val2017/000000403385.jpg', year='2023')]"
      ]
     },
     "execution_count": 44,
     "metadata": {},
     "output_type": "execute_result"
    }
   ],
   "source": [
    "def remove_punc(text):\n",
    "    return re.sub(r'[^a-zA-Z\\s]', '', text)\n",
    "\n",
    "remove_punc_udf = F.udf(remove_punc, StringType())\n",
    "\n",
    "temp_rmp = temp_lwc.withColumn('caption', remove_punc_udf(col('caption')))\n",
    "temp_rmp = temp_rmp.withColumn('short_caption', remove_punc_udf(col('short_caption')))\n",
    "temp_rmp.take(5)"
   ]
  },
  {
   "cell_type": "code",
   "execution_count": 45,
   "metadata": {},
   "outputs": [
    {
     "data": {
      "text/plain": [
       "[Row(_id=Row(oid='66df138714a70899133d85b3'), caption='a kitchen with wooden cabinets on the walls a stove multiple drawers a refrigerator a counter with fruits and a wellorganized layout for cooking and storage needs', created_time=datetime.datetime(2024, 9, 10, 5, 25, 56, 734000), howpublished='https://huggingface.co/datasets/laion/220k-GPT4Vision-captions-from-LIVIS', publisher='HuggingFace', short_caption='wellorganized kitchen with wooden cabinets a stove multiple drawers a refrigerator counter space with fruits and a clutterfree layout for efficient cooking and storage needs', url='http://images.cocodataset.org/val2017/000000037777.jpg', year='2023', caption_tokens=['a', 'kitchen', 'with', 'wooden', 'cabinets', 'on', 'the', 'walls', 'a', 'stove', 'multiple', 'drawers', 'a', 'refrigerator', 'a', 'counter', 'with', 'fruits', 'and', 'a', 'wellorganized', 'layout', 'for', 'cooking', 'and', 'storage', 'needs'], short_caption_tokens=['wellorganized', 'kitchen', 'with', 'wooden', 'cabinets', 'a', 'stove', 'multiple', 'drawers', 'a', 'refrigerator', 'counter', 'space', 'with', 'fruits', 'and', 'a', 'clutterfree', 'layout', 'for', 'efficient', 'cooking', 'and', 'storage', 'needs']),\n",
       " Row(_id=Row(oid='66df138714a70899133d85b4'), caption='a street scene with construction scaffolding three individuals a shopping cart filled with personal belongings street signs and a sidewalk the construction scaffolding is blue and has text about the construction company and contact details one individual is walking by another person is standing and looking at something in their hands and the third person is behind a shopping cart going through the items inside there are no vehicles visible in the image the shopping cart filled with personal belongings might suggest that the individual using it is homeless or transient the time of day appears to be daytime but no direct indicators of weather conditions are present although the presence of personal umbrellas might suggest rain', created_time=datetime.datetime(2024, 9, 10, 5, 25, 56, 734000), howpublished='https://huggingface.co/datasets/laion/220k-GPT4Vision-captions-from-LIVIS', publisher='HuggingFace', short_caption='construction scaffolding three individuals shopping cart with belongings street signs and sidewalk scene during daytime with possible rain and hints of homelessness or transience for one individual', url='http://images.cocodataset.org/val2017/000000252219.jpg', year='2023', caption_tokens=['a', 'street', 'scene', 'with', 'construction', 'scaffolding', 'three', 'individuals', 'a', 'shopping', 'cart', 'filled', 'with', 'personal', 'belongings', 'street', 'signs', 'and', 'a', 'sidewalk', 'the', 'construction', 'scaffolding', 'is', 'blue', 'and', 'has', 'text', 'about', 'the', 'construction', 'company', 'and', 'contact', 'details', 'one', 'individual', 'is', 'walking', 'by', 'another', 'person', 'is', 'standing', 'and', 'looking', 'at', 'something', 'in', 'their', 'hands', 'and', 'the', 'third', 'person', 'is', 'behind', 'a', 'shopping', 'cart', 'going', 'through', 'the', 'items', 'inside', 'there', 'are', 'no', 'vehicles', 'visible', 'in', 'the', 'image', 'the', 'shopping', 'cart', 'filled', 'with', 'personal', 'belongings', 'might', 'suggest', 'that', 'the', 'individual', 'using', 'it', 'is', 'homeless', 'or', 'transient', 'the', 'time', 'of', 'day', 'appears', 'to', 'be', 'daytime', 'but', 'no', 'direct', 'indicators', 'of', 'weather', 'conditions', 'are', 'present', 'although', 'the', 'presence', 'of', 'personal', 'umbrellas', 'might', 'suggest', 'rain'], short_caption_tokens=['construction', 'scaffolding', 'three', 'individuals', 'shopping', 'cart', 'with', 'belongings', 'street', 'signs', 'and', 'sidewalk', 'scene', 'during', 'daytime', 'with', 'possible', 'rain', 'and', 'hints', 'of', 'homelessness', 'or', 'transience', 'for', 'one', 'individual']),\n",
       " Row(_id=Row(oid='66df138714a70899133d85b5'), caption='multiple people wearing sweatshirts a person on a bicycle performing tricks and another person midjump off a skateboarding ramp the backdrop consists of buildings with graffiti artworks adding a vibrant feel to the urban setting the image appears to be set in an urban skate park or a designated area for extreme sports within a city', created_time=datetime.datetime(2024, 9, 10, 5, 25, 56, 734000), howpublished='https://huggingface.co/datasets/laion/220k-GPT4Vision-captions-from-LIVIS', publisher='HuggingFace', short_caption='multiple people wearing sweatshirts a person on a bicycle performing tricks and another person midjump off a skateboarding ramp in a graffitifilled urban setting with buildings as a backdrop', url='http://images.cocodataset.org/val2017/000000087038.jpg', year='2023', caption_tokens=['multiple', 'people', 'wearing', 'sweatshirts', 'a', 'person', 'on', 'a', 'bicycle', 'performing', 'tricks', 'and', 'another', 'person', 'midjump', 'off', 'a', 'skateboarding', 'ramp', 'the', 'backdrop', 'consists', 'of', 'buildings', 'with', 'graffiti', 'artworks', 'adding', 'a', 'vibrant', 'feel', 'to', 'the', 'urban', 'setting', 'the', 'image', 'appears', 'to', 'be', 'set', 'in', 'an', 'urban', 'skate', 'park', 'or', 'a', 'designated', 'area', 'for', 'extreme', 'sports', 'within', 'a', 'city'], short_caption_tokens=['multiple', 'people', 'wearing', 'sweatshirts', 'a', 'person', 'on', 'a', 'bicycle', 'performing', 'tricks', 'and', 'another', 'person', 'midjump', 'off', 'a', 'skateboarding', 'ramp', 'in', 'a', 'graffitifilled', 'urban', 'setting', 'with', 'buildings', 'as', 'a', 'backdrop']),\n",
       " Row(_id=Row(oid='66df138714a70899133d85b6'), caption='a blue bicycle parked alongside a city street with two traffic lights in the foreground the street is lined with buildings and trees and there are vehicles in motion the bicycle is located to the right of the traffic lights and there are no pedestrians walking on the sidewalk the image appears to be taken during the daytime but the exact time is unknown the bicycle is parked in an urban setting possibly for commuting or errands there are no clear signage or advertisements in the immediate vicinity of the bicycle', created_time=datetime.datetime(2024, 9, 10, 5, 25, 56, 734000), howpublished='https://huggingface.co/datasets/laion/220k-GPT4Vision-captions-from-LIVIS', publisher='HuggingFace', short_caption='a blue bicycle in an urban setting parked alongside a city street with two traffic lights and buildings trees and moving vehicles nearby', url='http://images.cocodataset.org/val2017/000000174482.jpg', year='2023', caption_tokens=['a', 'blue', 'bicycle', 'parked', 'alongside', 'a', 'city', 'street', 'with', 'two', 'traffic', 'lights', 'in', 'the', 'foreground', 'the', 'street', 'is', 'lined', 'with', 'buildings', 'and', 'trees', 'and', 'there', 'are', 'vehicles', 'in', 'motion', 'the', 'bicycle', 'is', 'located', 'to', 'the', 'right', 'of', 'the', 'traffic', 'lights', 'and', 'there', 'are', 'no', 'pedestrians', 'walking', 'on', 'the', 'sidewalk', 'the', 'image', 'appears', 'to', 'be', 'taken', 'during', 'the', 'daytime', 'but', 'the', 'exact', 'time', 'is', 'unknown', 'the', 'bicycle', 'is', 'parked', 'in', 'an', 'urban', 'setting', 'possibly', 'for', 'commuting', 'or', 'errands', 'there', 'are', 'no', 'clear', 'signage', 'or', 'advertisements', 'in', 'the', 'immediate', 'vicinity', 'of', 'the', 'bicycle'], short_caption_tokens=['a', 'blue', 'bicycle', 'in', 'an', 'urban', 'setting', 'parked', 'alongside', 'a', 'city', 'street', 'with', 'two', 'traffic', 'lights', 'and', 'buildings', 'trees', 'and', 'moving', 'vehicles', 'nearby']),\n",
       " Row(_id=Row(oid='66df138714a70899133d85b7'), caption='a bathroom with various objects including a toilet a sink a shower area with a curtain a mirror a fan an air conditioner and two rolls of toilet tissue the shower area has some tiles missing or a broken section of the wall exposed the fan is located on the upper wall to the left of the toilet there is evidence of damage or repair in the shower area', created_time=datetime.datetime(2024, 9, 10, 5, 25, 56, 734000), howpublished='https://huggingface.co/datasets/laion/220k-GPT4Vision-captions-from-LIVIS', publisher='HuggingFace', short_caption='a worn bathroom contains a toilet sink shower with ceiling damage mirror fan air conditioner and toiletries', url='http://images.cocodataset.org/val2017/000000403385.jpg', year='2023', caption_tokens=['a', 'bathroom', 'with', 'various', 'objects', 'including', 'a', 'toilet', 'a', 'sink', 'a', 'shower', 'area', 'with', 'a', 'curtain', 'a', 'mirror', 'a', 'fan', 'an', 'air', 'conditioner', 'and', 'two', 'rolls', 'of', 'toilet', 'tissue', 'the', 'shower', 'area', 'has', 'some', 'tiles', 'missing', 'or', 'a', 'broken', 'section', 'of', 'the', 'wall', 'exposed', 'the', 'fan', 'is', 'located', 'on', 'the', 'upper', 'wall', 'to', 'the', 'left', 'of', 'the', 'toilet', 'there', 'is', 'evidence', 'of', 'damage', 'or', 'repair', 'in', 'the', 'shower', 'area'], short_caption_tokens=['a', 'worn', 'bathroom', 'contains', 'a', 'toilet', 'sink', 'shower', 'with', 'ceiling', 'damage', 'mirror', 'fan', 'air', 'conditioner', 'and', 'toiletries'])]"
      ]
     },
     "execution_count": 45,
     "metadata": {},
     "output_type": "execute_result"
    }
   ],
   "source": [
    "tokenize_udf = F.udf(lambda text: text.split(\" \"), ArrayType(StringType()))\n",
    "\n",
    "temp_tok = temp_rmp.withColumn('caption_tokens', tokenize_udf(col('caption')))\n",
    "temp_tok = temp_tok.withColumn('short_caption_tokens', tokenize_udf(col('short_caption')))\n",
    "temp_tok.take(5)"
   ]
  },
  {
   "cell_type": "code",
   "execution_count": 46,
   "metadata": {},
   "outputs": [
    {
     "data": {
      "text/plain": [
       "[Row(url='http://images.cocodataset.org/val2017/000000037777.jpg', caption='a kitchen with wooden cabinets on the walls a stove multiple drawers a refrigerator a counter with fruits and a wellorganized layout for cooking and storage needs', short_caption='wellorganized kitchen with wooden cabinets a stove multiple drawers a refrigerator counter space with fruits and a clutterfree layout for efficient cooking and storage needs', caption_tokens=['a', 'kitchen', 'with', 'wooden', 'cabinets', 'on', 'the', 'walls', 'a', 'stove', 'multiple', 'drawers', 'a', 'refrigerator', 'a', 'counter', 'with', 'fruits', 'and', 'a', 'wellorganized', 'layout', 'for', 'cooking', 'and', 'storage', 'needs'], short_caption_tokens=['wellorganized', 'kitchen', 'with', 'wooden', 'cabinets', 'a', 'stove', 'multiple', 'drawers', 'a', 'refrigerator', 'counter', 'space', 'with', 'fruits', 'and', 'a', 'clutterfree', 'layout', 'for', 'efficient', 'cooking', 'and', 'storage', 'needs'], publisher='HuggingFace', created_time=datetime.datetime(2024, 9, 12, 23, 39, 2, 412599)),\n",
       " Row(url='http://images.cocodataset.org/val2017/000000252219.jpg', caption='a street scene with construction scaffolding three individuals a shopping cart filled with personal belongings street signs and a sidewalk the construction scaffolding is blue and has text about the construction company and contact details one individual is walking by another person is standing and looking at something in their hands and the third person is behind a shopping cart going through the items inside there are no vehicles visible in the image the shopping cart filled with personal belongings might suggest that the individual using it is homeless or transient the time of day appears to be daytime but no direct indicators of weather conditions are present although the presence of personal umbrellas might suggest rain', short_caption='construction scaffolding three individuals shopping cart with belongings street signs and sidewalk scene during daytime with possible rain and hints of homelessness or transience for one individual', caption_tokens=['a', 'street', 'scene', 'with', 'construction', 'scaffolding', 'three', 'individuals', 'a', 'shopping', 'cart', 'filled', 'with', 'personal', 'belongings', 'street', 'signs', 'and', 'a', 'sidewalk', 'the', 'construction', 'scaffolding', 'is', 'blue', 'and', 'has', 'text', 'about', 'the', 'construction', 'company', 'and', 'contact', 'details', 'one', 'individual', 'is', 'walking', 'by', 'another', 'person', 'is', 'standing', 'and', 'looking', 'at', 'something', 'in', 'their', 'hands', 'and', 'the', 'third', 'person', 'is', 'behind', 'a', 'shopping', 'cart', 'going', 'through', 'the', 'items', 'inside', 'there', 'are', 'no', 'vehicles', 'visible', 'in', 'the', 'image', 'the', 'shopping', 'cart', 'filled', 'with', 'personal', 'belongings', 'might', 'suggest', 'that', 'the', 'individual', 'using', 'it', 'is', 'homeless', 'or', 'transient', 'the', 'time', 'of', 'day', 'appears', 'to', 'be', 'daytime', 'but', 'no', 'direct', 'indicators', 'of', 'weather', 'conditions', 'are', 'present', 'although', 'the', 'presence', 'of', 'personal', 'umbrellas', 'might', 'suggest', 'rain'], short_caption_tokens=['construction', 'scaffolding', 'three', 'individuals', 'shopping', 'cart', 'with', 'belongings', 'street', 'signs', 'and', 'sidewalk', 'scene', 'during', 'daytime', 'with', 'possible', 'rain', 'and', 'hints', 'of', 'homelessness', 'or', 'transience', 'for', 'one', 'individual'], publisher='HuggingFace', created_time=datetime.datetime(2024, 9, 12, 23, 39, 2, 412599)),\n",
       " Row(url='http://images.cocodataset.org/val2017/000000087038.jpg', caption='multiple people wearing sweatshirts a person on a bicycle performing tricks and another person midjump off a skateboarding ramp the backdrop consists of buildings with graffiti artworks adding a vibrant feel to the urban setting the image appears to be set in an urban skate park or a designated area for extreme sports within a city', short_caption='multiple people wearing sweatshirts a person on a bicycle performing tricks and another person midjump off a skateboarding ramp in a graffitifilled urban setting with buildings as a backdrop', caption_tokens=['multiple', 'people', 'wearing', 'sweatshirts', 'a', 'person', 'on', 'a', 'bicycle', 'performing', 'tricks', 'and', 'another', 'person', 'midjump', 'off', 'a', 'skateboarding', 'ramp', 'the', 'backdrop', 'consists', 'of', 'buildings', 'with', 'graffiti', 'artworks', 'adding', 'a', 'vibrant', 'feel', 'to', 'the', 'urban', 'setting', 'the', 'image', 'appears', 'to', 'be', 'set', 'in', 'an', 'urban', 'skate', 'park', 'or', 'a', 'designated', 'area', 'for', 'extreme', 'sports', 'within', 'a', 'city'], short_caption_tokens=['multiple', 'people', 'wearing', 'sweatshirts', 'a', 'person', 'on', 'a', 'bicycle', 'performing', 'tricks', 'and', 'another', 'person', 'midjump', 'off', 'a', 'skateboarding', 'ramp', 'in', 'a', 'graffitifilled', 'urban', 'setting', 'with', 'buildings', 'as', 'a', 'backdrop'], publisher='HuggingFace', created_time=datetime.datetime(2024, 9, 12, 23, 39, 2, 412599)),\n",
       " Row(url='http://images.cocodataset.org/val2017/000000174482.jpg', caption='a blue bicycle parked alongside a city street with two traffic lights in the foreground the street is lined with buildings and trees and there are vehicles in motion the bicycle is located to the right of the traffic lights and there are no pedestrians walking on the sidewalk the image appears to be taken during the daytime but the exact time is unknown the bicycle is parked in an urban setting possibly for commuting or errands there are no clear signage or advertisements in the immediate vicinity of the bicycle', short_caption='a blue bicycle in an urban setting parked alongside a city street with two traffic lights and buildings trees and moving vehicles nearby', caption_tokens=['a', 'blue', 'bicycle', 'parked', 'alongside', 'a', 'city', 'street', 'with', 'two', 'traffic', 'lights', 'in', 'the', 'foreground', 'the', 'street', 'is', 'lined', 'with', 'buildings', 'and', 'trees', 'and', 'there', 'are', 'vehicles', 'in', 'motion', 'the', 'bicycle', 'is', 'located', 'to', 'the', 'right', 'of', 'the', 'traffic', 'lights', 'and', 'there', 'are', 'no', 'pedestrians', 'walking', 'on', 'the', 'sidewalk', 'the', 'image', 'appears', 'to', 'be', 'taken', 'during', 'the', 'daytime', 'but', 'the', 'exact', 'time', 'is', 'unknown', 'the', 'bicycle', 'is', 'parked', 'in', 'an', 'urban', 'setting', 'possibly', 'for', 'commuting', 'or', 'errands', 'there', 'are', 'no', 'clear', 'signage', 'or', 'advertisements', 'in', 'the', 'immediate', 'vicinity', 'of', 'the', 'bicycle'], short_caption_tokens=['a', 'blue', 'bicycle', 'in', 'an', 'urban', 'setting', 'parked', 'alongside', 'a', 'city', 'street', 'with', 'two', 'traffic', 'lights', 'and', 'buildings', 'trees', 'and', 'moving', 'vehicles', 'nearby'], publisher='HuggingFace', created_time=datetime.datetime(2024, 9, 12, 23, 39, 2, 412599)),\n",
       " Row(url='http://images.cocodataset.org/val2017/000000403385.jpg', caption='a bathroom with various objects including a toilet a sink a shower area with a curtain a mirror a fan an air conditioner and two rolls of toilet tissue the shower area has some tiles missing or a broken section of the wall exposed the fan is located on the upper wall to the left of the toilet there is evidence of damage or repair in the shower area', short_caption='a worn bathroom contains a toilet sink shower with ceiling damage mirror fan air conditioner and toiletries', caption_tokens=['a', 'bathroom', 'with', 'various', 'objects', 'including', 'a', 'toilet', 'a', 'sink', 'a', 'shower', 'area', 'with', 'a', 'curtain', 'a', 'mirror', 'a', 'fan', 'an', 'air', 'conditioner', 'and', 'two', 'rolls', 'of', 'toilet', 'tissue', 'the', 'shower', 'area', 'has', 'some', 'tiles', 'missing', 'or', 'a', 'broken', 'section', 'of', 'the', 'wall', 'exposed', 'the', 'fan', 'is', 'located', 'on', 'the', 'upper', 'wall', 'to', 'the', 'left', 'of', 'the', 'toilet', 'there', 'is', 'evidence', 'of', 'damage', 'or', 'repair', 'in', 'the', 'shower', 'area'], short_caption_tokens=['a', 'worn', 'bathroom', 'contains', 'a', 'toilet', 'sink', 'shower', 'with', 'ceiling', 'damage', 'mirror', 'fan', 'air', 'conditioner', 'and', 'toiletries'], publisher='HuggingFace', created_time=datetime.datetime(2024, 9, 12, 23, 39, 2, 412599))]"
      ]
     },
     "execution_count": 46,
     "metadata": {},
     "output_type": "execute_result"
    }
   ],
   "source": [
    "final_df = temp_tok.withColumn('created_time', lit(datetime.now()))\n",
    "final_df = final_df.select(['url', 'caption', 'short_caption', 'caption_tokens', 'short_caption_tokens', 'publisher', 'created_time'])\n",
    "final_df.take(5)"
   ]
  },
  {
   "cell_type": "code",
   "execution_count": 47,
   "metadata": {},
   "outputs": [],
   "source": [
    "# refined_data = temp.toDF().randomSplit([1/1000]*1000)\n",
    "# batch = refined_data[0]"
   ]
  },
  {
   "cell_type": "code",
   "execution_count": null,
   "metadata": {},
   "outputs": [],
   "source": [
    "final_df.write.format(\"com.mongodb.spark.sql.DefaultSource\") \\\n",
    "                .option('spark.mongodb.output.uri', mongo_url) \\\n",
    "                .option('spark.mongodb.output.database', 'imcp') \\\n",
    "                .option('spark.mongodb.output.collection', 'refined') \\\n",
    "                .mode('append') \\\n",
    "                .save()"
   ]
  },
  {
   "cell_type": "code",
   "execution_count": 39,
   "metadata": {},
   "outputs": [],
   "source": [
    "spark.stop()"
   ]
  },
  {
   "cell_type": "code",
   "execution_count": 52,
   "metadata": {},
   "outputs": [
    {
     "data": {
      "text/plain": [
       "217868"
      ]
     },
     "execution_count": 52,
     "metadata": {},
     "output_type": "execute_result"
    }
   ],
   "source": [
    "final_df.count()"
   ]
  }
 ],
 "metadata": {
  "kernelspec": {
   "display_name": ".venv",
   "language": "python",
   "name": "python3"
  },
  "language_info": {
   "codemirror_mode": {
    "name": "ipython",
    "version": 3
   },
   "file_extension": ".py",
   "mimetype": "text/x-python",
   "name": "python",
   "nbconvert_exporter": "python",
   "pygments_lexer": "ipython3",
   "version": "3.11.1"
  }
 },
 "nbformat": 4,
 "nbformat_minor": 2
}
